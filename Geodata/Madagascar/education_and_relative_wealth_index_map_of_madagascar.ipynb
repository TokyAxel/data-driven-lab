{
 "cells": [
  {
   "cell_type": "markdown",
   "metadata": {},
   "source": [
    "## Education and Relative Wealth Index Map of Madagascar"
   ]
  },
  {
   "cell_type": "code",
   "execution_count": 1,
   "metadata": {},
   "outputs": [],
   "source": [
    "import pandas as pd\n",
    "import geopandas as gpd\n",
    "from pyproj import CRS\n",
    "from keplergl import KeplerGl\n",
    "from shapely.geometry import Point\n",
    "from shapely.geometry import Polygon\n",
    "import json"
   ]
  },
  {
   "cell_type": "markdown",
   "metadata": {},
   "source": [
    "### Data preprocessing"
   ]
  },
  {
   "cell_type": "code",
   "execution_count": 2,
   "metadata": {},
   "outputs": [],
   "source": [
    "### rwi = relative wealth index\n",
    "rwi_df = pd.read_csv(\"mdg_relative_wealth_index.csv\")\n",
    "\n",
    "### The 3rd administrative boundary of Madagascar is the municipality called : commune\n",
    "adm_gdf = gpd.read_file(\"mdg_admbnda_adm3_BNGRC_OCHA/mdg_admbnda_adm3_BNGRC_OCHA_20181031.shp\")\n",
    "\n",
    "### All education places (schools, etc) from Open Street Map\n",
    "edu_places_gdf = gpd.read_file(\"hotosm_mdg_education_facilities_points_shp/hotosm_mdg_education_facilities_points.shp\")"
   ]
  },
  {
   "cell_type": "code",
   "execution_count": 3,
   "metadata": {},
   "outputs": [
    {
     "data": {
      "text/plain": [
       "((43639, 4), (1579, 17), (1681, 10))"
      ]
     },
     "execution_count": 3,
     "metadata": {},
     "output_type": "execute_result"
    }
   ],
   "source": [
    "rwi_df.shape, adm_gdf.shape, edu_places_gdf.shape"
   ]
  },
  {
   "cell_type": "code",
   "execution_count": 4,
   "metadata": {},
   "outputs": [],
   "source": [
    "### Convert rwi_df into geopandas\n",
    "geometry = [Point(lon, lat) for lon, lat in zip(rwi_df['longitude'], rwi_df['latitude'])]\n",
    "rwi_gdf  = gpd.GeoDataFrame(rwi_df , geometry=geometry)\n",
    "\n",
    "### Project the CRS code of communes_gdf to rwi_gdf\n",
    "rwi_gdf.crs = CRS('EPSG:4326')\n",
    "rwi_gdf  = rwi_gdf.to_crs(adm_gdf.crs)"
   ]
  },
  {
   "cell_type": "code",
   "execution_count": 5,
   "metadata": {},
   "outputs": [],
   "source": [
    "### Save the communes_gdf geometry then join it with rwi_gdf\n",
    "adm_gdf['boundary_geometry'] = adm_gdf.geometry\n",
    "rwi_with_adm_gdf = gpd.sjoin(rwi_gdf, adm_gdf, how='left', predicate='within')"
   ]
  },
  {
   "cell_type": "code",
   "execution_count": 6,
   "metadata": {},
   "outputs": [],
   "source": [
    "### Join with edu_places_gdf\n",
    "edu_places_with_adm_gdf = gpd.sjoin(edu_places_gdf, adm_gdf, how='left', predicate='within')"
   ]
  },
  {
   "cell_type": "code",
   "execution_count": 7,
   "metadata": {},
   "outputs": [
    {
     "data": {
      "text/plain": [
       "latitude                 0\n",
       "longitude                0\n",
       "rwi                      0\n",
       "error                    0\n",
       "geometry                 0\n",
       "index_right            407\n",
       "ADM0_PCODE             407\n",
       "ADM0_EN                407\n",
       "ADM1_PCODE             407\n",
       "ADM1_EN                407\n",
       "ADM1_TYPE              407\n",
       "ADM2_PCODE             407\n",
       "ADM2_EN                407\n",
       "ADM2_TYPE              407\n",
       "ADM3_PCODE             407\n",
       "ADM3_EN                407\n",
       "ADM3_TYPE              407\n",
       "PROV_CODE_             407\n",
       "OLD_PROVIN             407\n",
       "PROV_TYPE              407\n",
       "NOTES                43622\n",
       "SOURCE                 407\n",
       "boundary_geometry      407\n",
       "dtype: int64"
      ]
     },
     "execution_count": 7,
     "metadata": {},
     "output_type": "execute_result"
    }
   ],
   "source": [
    "rwi_with_adm_gdf.isna().sum()"
   ]
  },
  {
   "cell_type": "markdown",
   "metadata": {},
   "source": [
    "407 Points (of 43639) are found outside of Madagascar boundary => Acceptable"
   ]
  },
  {
   "cell_type": "code",
   "execution_count": 8,
   "metadata": {},
   "outputs": [
    {
     "data": {
      "text/html": [
       "<div>\n",
       "<style scoped>\n",
       "    .dataframe tbody tr th:only-of-type {\n",
       "        vertical-align: middle;\n",
       "    }\n",
       "\n",
       "    .dataframe tbody tr th {\n",
       "        vertical-align: top;\n",
       "    }\n",
       "\n",
       "    .dataframe thead th {\n",
       "        text-align: right;\n",
       "    }\n",
       "</style>\n",
       "<table border=\"1\" class=\"dataframe\">\n",
       "  <thead>\n",
       "    <tr style=\"text-align: right;\">\n",
       "      <th></th>\n",
       "      <th>rwi_mean</th>\n",
       "      <th>rwi_std</th>\n",
       "    </tr>\n",
       "    <tr>\n",
       "      <th>ADM3_PCODE</th>\n",
       "      <th></th>\n",
       "      <th></th>\n",
       "    </tr>\n",
       "  </thead>\n",
       "  <tbody>\n",
       "    <tr>\n",
       "      <th>MG11101001</th>\n",
       "      <td>1.505000</td>\n",
       "      <td>NaN</td>\n",
       "    </tr>\n",
       "    <tr>\n",
       "      <th>MG11101002</th>\n",
       "      <td>1.681333</td>\n",
       "      <td>0.256929</td>\n",
       "    </tr>\n",
       "    <tr>\n",
       "      <th>MG11101003</th>\n",
       "      <td>1.767000</td>\n",
       "      <td>0.312541</td>\n",
       "    </tr>\n",
       "    <tr>\n",
       "      <th>MG11101004</th>\n",
       "      <td>1.485000</td>\n",
       "      <td>0.320907</td>\n",
       "    </tr>\n",
       "    <tr>\n",
       "      <th>MG11101005</th>\n",
       "      <td>1.661400</td>\n",
       "      <td>0.300056</td>\n",
       "    </tr>\n",
       "  </tbody>\n",
       "</table>\n",
       "</div>"
      ],
      "text/plain": [
       "            rwi_mean   rwi_std\n",
       "ADM3_PCODE                    \n",
       "MG11101001  1.505000       NaN\n",
       "MG11101002  1.681333  0.256929\n",
       "MG11101003  1.767000  0.312541\n",
       "MG11101004  1.485000  0.320907\n",
       "MG11101005  1.661400  0.300056"
      ]
     },
     "execution_count": 8,
     "metadata": {},
     "output_type": "execute_result"
    }
   ],
   "source": [
    "### Group by communes and get the metrics\n",
    "grouped_adm_with_rwi_gdf = rwi_with_adm_gdf.groupby('ADM3_PCODE').agg({\n",
    "    'rwi':['mean','std']\n",
    "})\n",
    "grouped_adm_with_rwi_gdf.columns = ['_'.join(col).strip() for col in grouped_adm_with_rwi_gdf.columns.values]\n",
    "grouped_adm_with_rwi_gdf.head()"
   ]
  },
  {
   "cell_type": "code",
   "execution_count": 9,
   "metadata": {},
   "outputs": [
    {
     "data": {
      "text/plain": [
       "array([nan, 'public', 'private', 'community', 'religious', 'consortium',\n",
       "       'catholic'], dtype=object)"
      ]
     },
     "execution_count": 9,
     "metadata": {},
     "output_type": "execute_result"
    }
   ],
   "source": [
    "edu_places_with_adm_gdf.operatorty.unique()"
   ]
  },
  {
   "cell_type": "code",
   "execution_count": 10,
   "metadata": {},
   "outputs": [
    {
     "data": {
      "text/plain": [
       "osm_id                  0\n",
       "operatorty           1348\n",
       "source               1660\n",
       "name                  169\n",
       "amenity                 0\n",
       "addrfull             1665\n",
       "building             1678\n",
       "addrcity             1639\n",
       "capacitype           1681\n",
       "geometry                0\n",
       "index_right             0\n",
       "ADM0_PCODE              0\n",
       "ADM0_EN                 0\n",
       "ADM1_PCODE              0\n",
       "ADM1_EN                 0\n",
       "ADM1_TYPE               0\n",
       "ADM2_PCODE              0\n",
       "ADM2_EN                 0\n",
       "ADM2_TYPE               0\n",
       "ADM3_PCODE              0\n",
       "ADM3_EN                 0\n",
       "ADM3_TYPE               0\n",
       "PROV_CODE_              0\n",
       "OLD_PROVIN              0\n",
       "PROV_TYPE               0\n",
       "NOTES                1502\n",
       "SOURCE                  0\n",
       "boundary_geometry       0\n",
       "dtype: int64"
      ]
     },
     "execution_count": 10,
     "metadata": {},
     "output_type": "execute_result"
    }
   ],
   "source": [
    "edu_places_with_adm_gdf.isna().sum()"
   ]
  },
  {
   "cell_type": "markdown",
   "metadata": {},
   "source": [
    "Only 169 of 1681 buildings are not named. The amenity defines the buildings type. The rest of edu_places columns are useless (high missing value) for now and need to be completed."
   ]
  },
  {
   "cell_type": "code",
   "execution_count": 11,
   "metadata": {},
   "outputs": [
    {
     "data": {
      "text/html": [
       "<div>\n",
       "<style scoped>\n",
       "    .dataframe tbody tr th:only-of-type {\n",
       "        vertical-align: middle;\n",
       "    }\n",
       "\n",
       "    .dataframe tbody tr th {\n",
       "        vertical-align: top;\n",
       "    }\n",
       "\n",
       "    .dataframe thead th {\n",
       "        text-align: right;\n",
       "    }\n",
       "</style>\n",
       "<table border=\"1\" class=\"dataframe\">\n",
       "  <thead>\n",
       "    <tr style=\"text-align: right;\">\n",
       "      <th></th>\n",
       "      <th>amenity</th>\n",
       "    </tr>\n",
       "    <tr>\n",
       "      <th>ADM3_PCODE</th>\n",
       "      <th></th>\n",
       "    </tr>\n",
       "  </thead>\n",
       "  <tbody>\n",
       "    <tr>\n",
       "      <th>MG11101001</th>\n",
       "      <td>47</td>\n",
       "    </tr>\n",
       "    <tr>\n",
       "      <th>MG11101002</th>\n",
       "      <td>29</td>\n",
       "    </tr>\n",
       "    <tr>\n",
       "      <th>MG11101003</th>\n",
       "      <td>22</td>\n",
       "    </tr>\n",
       "    <tr>\n",
       "      <th>MG11101004</th>\n",
       "      <td>24</td>\n",
       "    </tr>\n",
       "    <tr>\n",
       "      <th>MG11101005</th>\n",
       "      <td>34</td>\n",
       "    </tr>\n",
       "  </tbody>\n",
       "</table>\n",
       "</div>"
      ],
      "text/plain": [
       "            amenity\n",
       "ADM3_PCODE         \n",
       "MG11101001       47\n",
       "MG11101002       29\n",
       "MG11101003       22\n",
       "MG11101004       24\n",
       "MG11101005       34"
      ]
     },
     "execution_count": 11,
     "metadata": {},
     "output_type": "execute_result"
    }
   ],
   "source": [
    "### Group by communes\n",
    "grouped_adm_with_edu_places_gdf = edu_places_with_adm_gdf.groupby('ADM3_PCODE').agg({\n",
    "    'amenity':'count',\n",
    "})\n",
    "grouped_adm_with_edu_places_gdf.head()"
   ]
  },
  {
   "cell_type": "code",
   "execution_count": 52,
   "metadata": {},
   "outputs": [],
   "source": [
    "### Keep only the necessary columns to lighten the Map\n",
    "adm_final_gdf = adm_gdf[['ADM0_EN','ADM1_EN','ADM2_EN','ADM3_EN','ADM3_PCODE','boundary_geometry']]\n",
    "adm_final_gdf.columns = ['Country','Region','District','Commune','ADM3_PCODE','boundary_geometry']\n",
    "\n",
    "### Merge with metrics\n",
    "adm_with_rwi_and_edu_places_gdf = adm_final_gdf.merge(grouped_adm_with_rwi_gdf,\n",
    "                                                on='ADM3_PCODE',\n",
    "                                                how='left')\n",
    "adm_with_rwi_and_edu_places_gdf = adm_with_rwi_and_edu_places_gdf.merge(grouped_adm_with_edu_places_gdf,\n",
    "                                                                        on='ADM3_PCODE',\n",
    "                                                                        how='left')\n",
    "adm_with_rwi_and_edu_places_gdf.shape\n",
    "adm_with_rwi_and_edu_places_gdf.columns = ['Country', \n",
    "                                           'Region', \n",
    "                                           'District', \n",
    "                                           'Commune', \n",
    "                                           'ADM3_PCODE',\n",
    "                                           'geometry', \n",
    "                                           'rwi_mean', \n",
    "                                           'rwi_std', \n",
    "                                           'edu_places_count']"
   ]
  },
  {
   "cell_type": "code",
   "execution_count": 53,
   "metadata": {},
   "outputs": [
    {
     "data": {
      "text/html": [
       "<div>\n",
       "<style scoped>\n",
       "    .dataframe tbody tr th:only-of-type {\n",
       "        vertical-align: middle;\n",
       "    }\n",
       "\n",
       "    .dataframe tbody tr th {\n",
       "        vertical-align: top;\n",
       "    }\n",
       "\n",
       "    .dataframe thead th {\n",
       "        text-align: right;\n",
       "    }\n",
       "</style>\n",
       "<table border=\"1\" class=\"dataframe\">\n",
       "  <thead>\n",
       "    <tr style=\"text-align: right;\">\n",
       "      <th></th>\n",
       "      <th>Country</th>\n",
       "      <th>Region</th>\n",
       "      <th>District</th>\n",
       "      <th>Commune</th>\n",
       "      <th>ADM3_PCODE</th>\n",
       "      <th>geometry</th>\n",
       "      <th>rwi_mean</th>\n",
       "      <th>rwi_std</th>\n",
       "      <th>edu_places_count</th>\n",
       "    </tr>\n",
       "  </thead>\n",
       "  <tbody>\n",
       "    <tr>\n",
       "      <th>0</th>\n",
       "      <td>Madagascar</td>\n",
       "      <td>Analamanga</td>\n",
       "      <td>1er Arrondissement</td>\n",
       "      <td>1er Arrondissement</td>\n",
       "      <td>MG11101001</td>\n",
       "      <td>POLYGON ((47.50556 -18.89146, 47.50563 -18.891...</td>\n",
       "      <td>1.505000</td>\n",
       "      <td>NaN</td>\n",
       "      <td>47.0</td>\n",
       "    </tr>\n",
       "    <tr>\n",
       "      <th>1</th>\n",
       "      <td>Madagascar</td>\n",
       "      <td>Analamanga</td>\n",
       "      <td>2e Arrondissement</td>\n",
       "      <td>2e Arrondissement</td>\n",
       "      <td>MG11101002</td>\n",
       "      <td>POLYGON ((47.55842 -18.91178, 47.55857 -18.911...</td>\n",
       "      <td>1.681333</td>\n",
       "      <td>0.256929</td>\n",
       "      <td>29.0</td>\n",
       "    </tr>\n",
       "    <tr>\n",
       "      <th>2</th>\n",
       "      <td>Madagascar</td>\n",
       "      <td>Analamanga</td>\n",
       "      <td>3e Arrondissement</td>\n",
       "      <td>3e Arrondissement</td>\n",
       "      <td>MG11101003</td>\n",
       "      <td>POLYGON ((47.51365 -18.87834, 47.51775 -18.879...</td>\n",
       "      <td>1.767000</td>\n",
       "      <td>0.312541</td>\n",
       "      <td>22.0</td>\n",
       "    </tr>\n",
       "    <tr>\n",
       "      <th>3</th>\n",
       "      <td>Madagascar</td>\n",
       "      <td>Analamanga</td>\n",
       "      <td>4e Arrondissement</td>\n",
       "      <td>4e Arrondissement</td>\n",
       "      <td>MG11101004</td>\n",
       "      <td>POLYGON ((47.50262 -18.91043, 47.50261 -18.910...</td>\n",
       "      <td>1.485000</td>\n",
       "      <td>0.320907</td>\n",
       "      <td>24.0</td>\n",
       "    </tr>\n",
       "    <tr>\n",
       "      <th>4</th>\n",
       "      <td>Madagascar</td>\n",
       "      <td>Analamanga</td>\n",
       "      <td>5e Arrondissement</td>\n",
       "      <td>5e Arrondissement</td>\n",
       "      <td>MG11101005</td>\n",
       "      <td>POLYGON ((47.53500 -18.85464, 47.53518 -18.854...</td>\n",
       "      <td>1.661400</td>\n",
       "      <td>0.300056</td>\n",
       "      <td>34.0</td>\n",
       "    </tr>\n",
       "  </tbody>\n",
       "</table>\n",
       "</div>"
      ],
      "text/plain": [
       "      Country      Region            District             Commune  ADM3_PCODE   \n",
       "0  Madagascar  Analamanga  1er Arrondissement  1er Arrondissement  MG11101001  \\\n",
       "1  Madagascar  Analamanga   2e Arrondissement   2e Arrondissement  MG11101002   \n",
       "2  Madagascar  Analamanga   3e Arrondissement   3e Arrondissement  MG11101003   \n",
       "3  Madagascar  Analamanga   4e Arrondissement   4e Arrondissement  MG11101004   \n",
       "4  Madagascar  Analamanga   5e Arrondissement   5e Arrondissement  MG11101005   \n",
       "\n",
       "                                            geometry  rwi_mean   rwi_std   \n",
       "0  POLYGON ((47.50556 -18.89146, 47.50563 -18.891...  1.505000       NaN  \\\n",
       "1  POLYGON ((47.55842 -18.91178, 47.55857 -18.911...  1.681333  0.256929   \n",
       "2  POLYGON ((47.51365 -18.87834, 47.51775 -18.879...  1.767000  0.312541   \n",
       "3  POLYGON ((47.50262 -18.91043, 47.50261 -18.910...  1.485000  0.320907   \n",
       "4  POLYGON ((47.53500 -18.85464, 47.53518 -18.854...  1.661400  0.300056   \n",
       "\n",
       "   edu_places_count  \n",
       "0              47.0  \n",
       "1              29.0  \n",
       "2              22.0  \n",
       "3              24.0  \n",
       "4              34.0  "
      ]
     },
     "execution_count": 53,
     "metadata": {},
     "output_type": "execute_result"
    }
   ],
   "source": [
    "adm_with_rwi_and_edu_places_gdf.head()"
   ]
  },
  {
   "cell_type": "code",
   "execution_count": 54,
   "metadata": {},
   "outputs": [],
   "source": [
    "### Keep only the necessary columns to lighten the Map\n",
    "edu_places_with_adm_final_gdf = edu_places_with_adm_gdf[['name',\n",
    "                                                         'amenity',\n",
    "                                                         'operatorty',\n",
    "                                                         'ADM0_EN',\n",
    "                                                         'ADM1_EN',\n",
    "                                                         'ADM2_EN',\n",
    "                                                         'ADM3_EN',\n",
    "                                                         'geometry']]\n",
    "\n",
    "edu_places_with_adm_final_gdf.columns = ['Place name',\n",
    "                                         'Amenity',\n",
    "                                         'Category',\n",
    "                                         'Country',\n",
    "                                         'Region',\n",
    "                                         'District',\n",
    "                                         'Commune',\n",
    "                                         'geometry']"
   ]
  },
  {
   "cell_type": "markdown",
   "metadata": {},
   "source": [
    "### KeplerGL Map"
   ]
  },
  {
   "cell_type": "markdown",
   "metadata": {},
   "source": [
    "Kepler doesn't support NaN type so we fill rwi_mean by the min(all_rwi_mean) and rwi_std by 0 and the others by \"missing\".\n",
    "Why the min for relative wealth index (rwi) kpi? because we suppose that where there is no rwi there is no population or not enough population data to be estimated. As we can see in the Analysis Part below, there is relation between population density and rwi and that why we take low population density = low rwi "
   ]
  },
  {
   "cell_type": "code",
   "execution_count": 55,
   "metadata": {},
   "outputs": [
    {
     "data": {
      "text/plain": [
       "Country                0\n",
       "Region                 0\n",
       "District               0\n",
       "Commune                0\n",
       "ADM3_PCODE             0\n",
       "geometry               0\n",
       "rwi_mean              11\n",
       "rwi_std               33\n",
       "edu_places_count    1125\n",
       "dtype: int64"
      ]
     },
     "execution_count": 55,
     "metadata": {},
     "output_type": "execute_result"
    }
   ],
   "source": [
    "adm_with_rwi_and_edu_places_gdf.isna().sum()"
   ]
  },
  {
   "cell_type": "code",
   "execution_count": 56,
   "metadata": {},
   "outputs": [
    {
     "data": {
      "text/plain": [
       "Place name     169\n",
       "Amenity          0\n",
       "Category      1348\n",
       "Country          0\n",
       "Region           0\n",
       "District         0\n",
       "Commune          0\n",
       "geometry         0\n",
       "dtype: int64"
      ]
     },
     "execution_count": 56,
     "metadata": {},
     "output_type": "execute_result"
    }
   ],
   "source": [
    "edu_places_with_adm_final_gdf.isna().sum()"
   ]
  },
  {
   "cell_type": "code",
   "execution_count": 57,
   "metadata": {},
   "outputs": [
    {
     "name": "stderr",
     "output_type": "stream",
     "text": [
      "C:\\Users\\tokya\\AppData\\Local\\Temp\\ipykernel_31244\\1265230388.py:4: SettingWithCopyWarning: \n",
      "A value is trying to be set on a copy of a slice from a DataFrame\n",
      "\n",
      "See the caveats in the documentation: https://pandas.pydata.org/pandas-docs/stable/user_guide/indexing.html#returning-a-view-versus-a-copy\n",
      "  edu_places_with_adm_final_gdf['Place name'].fillna('missing',inplace=True)\n",
      "C:\\Users\\tokya\\AppData\\Local\\Temp\\ipykernel_31244\\1265230388.py:5: SettingWithCopyWarning: \n",
      "A value is trying to be set on a copy of a slice from a DataFrame\n",
      "\n",
      "See the caveats in the documentation: https://pandas.pydata.org/pandas-docs/stable/user_guide/indexing.html#returning-a-view-versus-a-copy\n",
      "  edu_places_with_adm_final_gdf['Category'].fillna('missing',inplace=True)\n"
     ]
    }
   ],
   "source": [
    "adm_with_rwi_and_edu_places_gdf.rwi_mean.fillna(adm_with_rwi_and_edu_places_gdf.rwi_mean.min(),inplace=True)\n",
    "adm_with_rwi_and_edu_places_gdf.rwi_std.fillna(0,inplace=True)\n",
    "adm_with_rwi_and_edu_places_gdf.edu_places_count.fillna(0,inplace=True)\n",
    "edu_places_with_adm_final_gdf['Place name'].fillna('missing',inplace=True)\n",
    "edu_places_with_adm_final_gdf['Category'].fillna('missing',inplace=True)"
   ]
  },
  {
   "cell_type": "code",
   "execution_count": 58,
   "metadata": {},
   "outputs": [],
   "source": [
    "### Load pre-registrated configuration\n",
    "#config_dict = json.load(open('config.json'))"
   ]
  },
  {
   "cell_type": "code",
   "execution_count": 59,
   "metadata": {},
   "outputs": [],
   "source": [
    "### Convert the Dataframe we used for metrics calculation into GeoDataframe\n",
    "adm_with_rwi_and_edu_places_gdf = gpd.GeoDataFrame(adm_with_rwi_and_edu_places_gdf, geometry=\"geometry\")\n",
    "edu_places_with_adm_final_gdf = gpd.GeoDataFrame(edu_places_with_adm_final_gdf, geometry=\"geometry\")"
   ]
  },
  {
   "cell_type": "code",
   "execution_count": 60,
   "metadata": {},
   "outputs": [
    {
     "name": "stdout",
     "output_type": "stream",
     "text": [
      "User Guide: https://docs.kepler.gl/docs/keplergl-jupyter\n"
     ]
    }
   ],
   "source": [
    "map_1 = KeplerGl(height=1000, data={\"Metrics per Commune\": adm_with_rwi_and_edu_places_gdf,\n",
    "                                   \"Education places\":edu_places_with_adm_final_gdf\n",
    "                                   })  #, config=config_dict)"
   ]
  },
  {
   "cell_type": "code",
   "execution_count": 61,
   "metadata": {},
   "outputs": [
    {
     "data": {
      "application/vnd.jupyter.widget-view+json": {
       "model_id": "316e80b71adf4eddac45203c837c39a5",
       "version_major": 2,
       "version_minor": 0
      },
      "text/plain": [
       "KeplerGl(data={'Metrics per Commune':          Country      Region            District             Commune   \n",
       "…"
      ]
     },
     "metadata": {},
     "output_type": "display_data"
    }
   ],
   "source": [
    "### Configure the KeplerGL Map before saving it\n",
    "map_1"
   ]
  },
  {
   "cell_type": "code",
   "execution_count": 62,
   "metadata": {},
   "outputs": [],
   "source": [
    "### Get and save configuration\n",
    "config_dict = map_1.config\n",
    "config_dict\n",
    "with open('config_education_and_rwi.json', 'w') as fp:\n",
    "    json.dump(config_dict, fp)"
   ]
  },
  {
   "cell_type": "code",
   "execution_count": 63,
   "metadata": {},
   "outputs": [
    {
     "name": "stdout",
     "output_type": "stream",
     "text": [
      "Map saved to Education and Relative Wealth of Madagascar.html!\n"
     ]
    }
   ],
   "source": [
    "### Save Map\n",
    "map_1.save_to_html(data={\"Metrics per Commune\": adm_with_rwi_and_edu_places_gdf,\n",
    "                         \"Education places\":edu_places_with_adm_final_gdf\n",
    "                         }, file_name='Education and Relative Wealth of Madagascar.html')\n"
   ]
  },
  {
   "cell_type": "code",
   "execution_count": null,
   "metadata": {},
   "outputs": [],
   "source": []
  }
 ],
 "metadata": {
  "kernelspec": {
   "display_name": "default",
   "language": "python",
   "name": "python3"
  },
  "language_info": {
   "codemirror_mode": {
    "name": "ipython",
    "version": 3
   },
   "file_extension": ".py",
   "mimetype": "text/x-python",
   "name": "python",
   "nbconvert_exporter": "python",
   "pygments_lexer": "ipython3",
   "version": "3.11.3"
  }
 },
 "nbformat": 4,
 "nbformat_minor": 2
}
