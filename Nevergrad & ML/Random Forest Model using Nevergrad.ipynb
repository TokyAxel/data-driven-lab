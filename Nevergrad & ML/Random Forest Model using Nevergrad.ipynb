{
 "cells": [
  {
   "cell_type": "markdown",
   "id": "0b755c74-9d58-47f3-b6f1-73148d6e3712",
   "metadata": {},
   "source": [
    "## Random Forest Model using Nevergrad gradient-free optimizer for hypertuning\n",
    "This notebook aims to compare the performance of RF models using gridsearchcv hyperparameters tuning vs using Nevergrad. The experiment below is very \"lite\" and could only serve as a basis for further experimentation. This notebook is explained in a Toky Axel's Medium article : "
   ]
  },
  {
   "cell_type": "code",
   "execution_count": 1,
   "id": "6fc110b9",
   "metadata": {},
   "outputs": [],
   "source": [
    "# Needed packages\n",
    "#!pip install tqdm\n",
    "#!pip install nevergrad"
   ]
  },
  {
   "cell_type": "code",
   "execution_count": 2,
   "id": "88087fcd-6564-4ef2-903a-71c514ee2d45",
   "metadata": {},
   "outputs": [],
   "source": [
    "import tqdm\n",
    "import pandas as pd\n",
    "import nevergrad as ng\n",
    "from scipy.io.arff import loadarff \n",
    "from sklearn.ensemble import RandomForestClassifier\n",
    "from sklearn.model_selection import train_test_split\n",
    "from sklearn.model_selection import GridSearchCV\n",
    "from sklearn.metrics import roc_auc_score"
   ]
  },
  {
   "cell_type": "markdown",
   "id": "e261eb66",
   "metadata": {},
   "source": [
    "### 1. Dataset sampling\n",
    "More details about the dataset : https://www.openml.org/search?type=data&id=1494&sort=runs&status=active"
   ]
  },
  {
   "cell_type": "code",
   "execution_count": 3,
   "id": "e8318654",
   "metadata": {},
   "outputs": [],
   "source": [
    "raw = loadarff('qsar-biodeg.arff')\n",
    "data = pd.DataFrame(raw[0])\n",
    "data = data.replace({'Class': {b'2': 1, b'1': 0}})"
   ]
  },
  {
   "cell_type": "code",
   "execution_count": 4,
   "id": "fc74da99",
   "metadata": {},
   "outputs": [
    {
     "data": {
      "text/plain": [
       "(1055, 42)"
      ]
     },
     "execution_count": 4,
     "metadata": {},
     "output_type": "execute_result"
    }
   ],
   "source": [
    "data.shape"
   ]
  },
  {
   "cell_type": "code",
   "execution_count": 5,
   "id": "4be11d43",
   "metadata": {},
   "outputs": [],
   "source": [
    "X_train, X_test, y_train, y_test = train_test_split(data.drop(\"Class\",axis=1), data.Class, test_size = 0.33, random_state = 123)"
   ]
  },
  {
   "cell_type": "markdown",
   "id": "513c4706",
   "metadata": {},
   "source": [
    "### 2. Model training using gridsearchcv hypertuning\n",
    "More details about the model : https://scikit-learn.org/stable/modules/generated/sklearn.ensemble.RandomForestClassifier.html"
   ]
  },
  {
   "cell_type": "code",
   "execution_count": 6,
   "id": "036ac78b",
   "metadata": {},
   "outputs": [
    {
     "data": {
      "text/plain": [
       "(706,)"
      ]
     },
     "execution_count": 6,
     "metadata": {},
     "output_type": "execute_result"
    }
   ],
   "source": [
    "y_train.shape"
   ]
  },
  {
   "cell_type": "code",
   "execution_count": 7,
   "id": "23688abf",
   "metadata": {},
   "outputs": [
    {
     "data": {
      "text/plain": [
       "Class\n",
       "0    471\n",
       "1    235\n",
       "Name: count, dtype: int64"
      ]
     },
     "execution_count": 7,
     "metadata": {},
     "output_type": "execute_result"
    }
   ],
   "source": [
    "y_train.value_counts()"
   ]
  },
  {
   "cell_type": "code",
   "execution_count": 8,
   "id": "e2334b9c",
   "metadata": {},
   "outputs": [
    {
     "data": {
      "text/plain": [
       "Class\n",
       "0    228\n",
       "1    121\n",
       "Name: count, dtype: int64"
      ]
     },
     "execution_count": 8,
     "metadata": {},
     "output_type": "execute_result"
    }
   ],
   "source": [
    "y_test.value_counts()"
   ]
  },
  {
   "cell_type": "code",
   "execution_count": 9,
   "id": "91dd5ce7",
   "metadata": {},
   "outputs": [
    {
     "data": {
      "text/html": [
       "<style>#sk-container-id-1 {color: black;background-color: white;}#sk-container-id-1 pre{padding: 0;}#sk-container-id-1 div.sk-toggleable {background-color: white;}#sk-container-id-1 label.sk-toggleable__label {cursor: pointer;display: block;width: 100%;margin-bottom: 0;padding: 0.3em;box-sizing: border-box;text-align: center;}#sk-container-id-1 label.sk-toggleable__label-arrow:before {content: \"▸\";float: left;margin-right: 0.25em;color: #696969;}#sk-container-id-1 label.sk-toggleable__label-arrow:hover:before {color: black;}#sk-container-id-1 div.sk-estimator:hover label.sk-toggleable__label-arrow:before {color: black;}#sk-container-id-1 div.sk-toggleable__content {max-height: 0;max-width: 0;overflow: hidden;text-align: left;background-color: #f0f8ff;}#sk-container-id-1 div.sk-toggleable__content pre {margin: 0.2em;color: black;border-radius: 0.25em;background-color: #f0f8ff;}#sk-container-id-1 input.sk-toggleable__control:checked~div.sk-toggleable__content {max-height: 200px;max-width: 100%;overflow: auto;}#sk-container-id-1 input.sk-toggleable__control:checked~label.sk-toggleable__label-arrow:before {content: \"▾\";}#sk-container-id-1 div.sk-estimator input.sk-toggleable__control:checked~label.sk-toggleable__label {background-color: #d4ebff;}#sk-container-id-1 div.sk-label input.sk-toggleable__control:checked~label.sk-toggleable__label {background-color: #d4ebff;}#sk-container-id-1 input.sk-hidden--visually {border: 0;clip: rect(1px 1px 1px 1px);clip: rect(1px, 1px, 1px, 1px);height: 1px;margin: -1px;overflow: hidden;padding: 0;position: absolute;width: 1px;}#sk-container-id-1 div.sk-estimator {font-family: monospace;background-color: #f0f8ff;border: 1px dotted black;border-radius: 0.25em;box-sizing: border-box;margin-bottom: 0.5em;}#sk-container-id-1 div.sk-estimator:hover {background-color: #d4ebff;}#sk-container-id-1 div.sk-parallel-item::after {content: \"\";width: 100%;border-bottom: 1px solid gray;flex-grow: 1;}#sk-container-id-1 div.sk-label:hover label.sk-toggleable__label {background-color: #d4ebff;}#sk-container-id-1 div.sk-serial::before {content: \"\";position: absolute;border-left: 1px solid gray;box-sizing: border-box;top: 0;bottom: 0;left: 50%;z-index: 0;}#sk-container-id-1 div.sk-serial {display: flex;flex-direction: column;align-items: center;background-color: white;padding-right: 0.2em;padding-left: 0.2em;position: relative;}#sk-container-id-1 div.sk-item {position: relative;z-index: 1;}#sk-container-id-1 div.sk-parallel {display: flex;align-items: stretch;justify-content: center;background-color: white;position: relative;}#sk-container-id-1 div.sk-item::before, #sk-container-id-1 div.sk-parallel-item::before {content: \"\";position: absolute;border-left: 1px solid gray;box-sizing: border-box;top: 0;bottom: 0;left: 50%;z-index: -1;}#sk-container-id-1 div.sk-parallel-item {display: flex;flex-direction: column;z-index: 1;position: relative;background-color: white;}#sk-container-id-1 div.sk-parallel-item:first-child::after {align-self: flex-end;width: 50%;}#sk-container-id-1 div.sk-parallel-item:last-child::after {align-self: flex-start;width: 50%;}#sk-container-id-1 div.sk-parallel-item:only-child::after {width: 0;}#sk-container-id-1 div.sk-dashed-wrapped {border: 1px dashed gray;margin: 0 0.4em 0.5em 0.4em;box-sizing: border-box;padding-bottom: 0.4em;background-color: white;}#sk-container-id-1 div.sk-label label {font-family: monospace;font-weight: bold;display: inline-block;line-height: 1.2em;}#sk-container-id-1 div.sk-label-container {text-align: center;}#sk-container-id-1 div.sk-container {/* jupyter's `normalize.less` sets `[hidden] { display: none; }` but bootstrap.min.css set `[hidden] { display: none !important; }` so we also need the `!important` here to be able to override the default hidden behavior on the sphinx rendered scikit-learn.org. See: https://github.com/scikit-learn/scikit-learn/issues/21755 */display: inline-block !important;position: relative;}#sk-container-id-1 div.sk-text-repr-fallback {display: none;}</style><div id=\"sk-container-id-1\" class=\"sk-top-container\"><div class=\"sk-text-repr-fallback\"><pre>GridSearchCV(cv=5, estimator=RandomForestClassifier(random_state=42),\n",
       "             param_grid={&#x27;max_depth&#x27;: [None, 10, 20],\n",
       "                         &#x27;max_features&#x27;: [&#x27;sqrt&#x27;, &#x27;log2&#x27;, None],\n",
       "                         &#x27;min_samples_split&#x27;: range(2, 50, 20),\n",
       "                         &#x27;n_estimators&#x27;: [10, 100, 200]},\n",
       "             scoring=&#x27;roc_auc&#x27;)</pre><b>In a Jupyter environment, please rerun this cell to show the HTML representation or trust the notebook. <br />On GitHub, the HTML representation is unable to render, please try loading this page with nbviewer.org.</b></div><div class=\"sk-container\" hidden><div class=\"sk-item sk-dashed-wrapped\"><div class=\"sk-label-container\"><div class=\"sk-label sk-toggleable\"><input class=\"sk-toggleable__control sk-hidden--visually\" id=\"sk-estimator-id-1\" type=\"checkbox\" ><label for=\"sk-estimator-id-1\" class=\"sk-toggleable__label sk-toggleable__label-arrow\">GridSearchCV</label><div class=\"sk-toggleable__content\"><pre>GridSearchCV(cv=5, estimator=RandomForestClassifier(random_state=42),\n",
       "             param_grid={&#x27;max_depth&#x27;: [None, 10, 20],\n",
       "                         &#x27;max_features&#x27;: [&#x27;sqrt&#x27;, &#x27;log2&#x27;, None],\n",
       "                         &#x27;min_samples_split&#x27;: range(2, 50, 20),\n",
       "                         &#x27;n_estimators&#x27;: [10, 100, 200]},\n",
       "             scoring=&#x27;roc_auc&#x27;)</pre></div></div></div><div class=\"sk-parallel\"><div class=\"sk-parallel-item\"><div class=\"sk-item\"><div class=\"sk-label-container\"><div class=\"sk-label sk-toggleable\"><input class=\"sk-toggleable__control sk-hidden--visually\" id=\"sk-estimator-id-2\" type=\"checkbox\" ><label for=\"sk-estimator-id-2\" class=\"sk-toggleable__label sk-toggleable__label-arrow\">estimator: RandomForestClassifier</label><div class=\"sk-toggleable__content\"><pre>RandomForestClassifier(random_state=42)</pre></div></div></div><div class=\"sk-serial\"><div class=\"sk-item\"><div class=\"sk-estimator sk-toggleable\"><input class=\"sk-toggleable__control sk-hidden--visually\" id=\"sk-estimator-id-3\" type=\"checkbox\" ><label for=\"sk-estimator-id-3\" class=\"sk-toggleable__label sk-toggleable__label-arrow\">RandomForestClassifier</label><div class=\"sk-toggleable__content\"><pre>RandomForestClassifier(random_state=42)</pre></div></div></div></div></div></div></div></div></div></div>"
      ],
      "text/plain": [
       "GridSearchCV(cv=5, estimator=RandomForestClassifier(random_state=42),\n",
       "             param_grid={'max_depth': [None, 10, 20],\n",
       "                         'max_features': ['sqrt', 'log2', None],\n",
       "                         'min_samples_split': range(2, 50, 20),\n",
       "                         'n_estimators': [10, 100, 200]},\n",
       "             scoring='roc_auc')"
      ]
     },
     "execution_count": 9,
     "metadata": {},
     "output_type": "execute_result"
    }
   ],
   "source": [
    "tuned_parameters = {\n",
    "    'n_estimators': [10, 100, 200], \n",
    "    'max_depth' : [None, 10, 20], \n",
    "    'min_samples_split' : range(2,50,20),\n",
    "    'max_features' :['sqrt','log2', None]\n",
    "}\n",
    "clf = GridSearchCV(RandomForestClassifier(random_state=42), tuned_parameters, cv=5, scoring=\"roc_auc\")\n",
    "clf.fit(X_train, y_train)"
   ]
  },
  {
   "cell_type": "code",
   "execution_count": 10,
   "id": "c7fd2e61",
   "metadata": {},
   "outputs": [
    {
     "data": {
      "text/plain": [
       "{'max_depth': 10,\n",
       " 'max_features': 'log2',\n",
       " 'min_samples_split': 2,\n",
       " 'n_estimators': 200}"
      ]
     },
     "execution_count": 10,
     "metadata": {},
     "output_type": "execute_result"
    }
   ],
   "source": [
    "clf.best_params_"
   ]
  },
  {
   "cell_type": "code",
   "execution_count": 11,
   "id": "00f323a0",
   "metadata": {},
   "outputs": [
    {
     "data": {
      "text/plain": [
       "0.9184739462962522"
      ]
     },
     "execution_count": 11,
     "metadata": {},
     "output_type": "execute_result"
    }
   ],
   "source": [
    "clf.best_score_ "
   ]
  },
  {
   "cell_type": "code",
   "execution_count": 17,
   "id": "34dde209",
   "metadata": {},
   "outputs": [
    {
     "data": {
      "text/html": [
       "<style>#sk-container-id-4 {color: black;background-color: white;}#sk-container-id-4 pre{padding: 0;}#sk-container-id-4 div.sk-toggleable {background-color: white;}#sk-container-id-4 label.sk-toggleable__label {cursor: pointer;display: block;width: 100%;margin-bottom: 0;padding: 0.3em;box-sizing: border-box;text-align: center;}#sk-container-id-4 label.sk-toggleable__label-arrow:before {content: \"▸\";float: left;margin-right: 0.25em;color: #696969;}#sk-container-id-4 label.sk-toggleable__label-arrow:hover:before {color: black;}#sk-container-id-4 div.sk-estimator:hover label.sk-toggleable__label-arrow:before {color: black;}#sk-container-id-4 div.sk-toggleable__content {max-height: 0;max-width: 0;overflow: hidden;text-align: left;background-color: #f0f8ff;}#sk-container-id-4 div.sk-toggleable__content pre {margin: 0.2em;color: black;border-radius: 0.25em;background-color: #f0f8ff;}#sk-container-id-4 input.sk-toggleable__control:checked~div.sk-toggleable__content {max-height: 200px;max-width: 100%;overflow: auto;}#sk-container-id-4 input.sk-toggleable__control:checked~label.sk-toggleable__label-arrow:before {content: \"▾\";}#sk-container-id-4 div.sk-estimator input.sk-toggleable__control:checked~label.sk-toggleable__label {background-color: #d4ebff;}#sk-container-id-4 div.sk-label input.sk-toggleable__control:checked~label.sk-toggleable__label {background-color: #d4ebff;}#sk-container-id-4 input.sk-hidden--visually {border: 0;clip: rect(1px 1px 1px 1px);clip: rect(1px, 1px, 1px, 1px);height: 1px;margin: -1px;overflow: hidden;padding: 0;position: absolute;width: 1px;}#sk-container-id-4 div.sk-estimator {font-family: monospace;background-color: #f0f8ff;border: 1px dotted black;border-radius: 0.25em;box-sizing: border-box;margin-bottom: 0.5em;}#sk-container-id-4 div.sk-estimator:hover {background-color: #d4ebff;}#sk-container-id-4 div.sk-parallel-item::after {content: \"\";width: 100%;border-bottom: 1px solid gray;flex-grow: 1;}#sk-container-id-4 div.sk-label:hover label.sk-toggleable__label {background-color: #d4ebff;}#sk-container-id-4 div.sk-serial::before {content: \"\";position: absolute;border-left: 1px solid gray;box-sizing: border-box;top: 0;bottom: 0;left: 50%;z-index: 0;}#sk-container-id-4 div.sk-serial {display: flex;flex-direction: column;align-items: center;background-color: white;padding-right: 0.2em;padding-left: 0.2em;position: relative;}#sk-container-id-4 div.sk-item {position: relative;z-index: 1;}#sk-container-id-4 div.sk-parallel {display: flex;align-items: stretch;justify-content: center;background-color: white;position: relative;}#sk-container-id-4 div.sk-item::before, #sk-container-id-4 div.sk-parallel-item::before {content: \"\";position: absolute;border-left: 1px solid gray;box-sizing: border-box;top: 0;bottom: 0;left: 50%;z-index: -1;}#sk-container-id-4 div.sk-parallel-item {display: flex;flex-direction: column;z-index: 1;position: relative;background-color: white;}#sk-container-id-4 div.sk-parallel-item:first-child::after {align-self: flex-end;width: 50%;}#sk-container-id-4 div.sk-parallel-item:last-child::after {align-self: flex-start;width: 50%;}#sk-container-id-4 div.sk-parallel-item:only-child::after {width: 0;}#sk-container-id-4 div.sk-dashed-wrapped {border: 1px dashed gray;margin: 0 0.4em 0.5em 0.4em;box-sizing: border-box;padding-bottom: 0.4em;background-color: white;}#sk-container-id-4 div.sk-label label {font-family: monospace;font-weight: bold;display: inline-block;line-height: 1.2em;}#sk-container-id-4 div.sk-label-container {text-align: center;}#sk-container-id-4 div.sk-container {/* jupyter's `normalize.less` sets `[hidden] { display: none; }` but bootstrap.min.css set `[hidden] { display: none !important; }` so we also need the `!important` here to be able to override the default hidden behavior on the sphinx rendered scikit-learn.org. See: https://github.com/scikit-learn/scikit-learn/issues/21755 */display: inline-block !important;position: relative;}#sk-container-id-4 div.sk-text-repr-fallback {display: none;}</style><div id=\"sk-container-id-4\" class=\"sk-top-container\"><div class=\"sk-text-repr-fallback\"><pre>RandomForestClassifier(max_depth=10, max_features=&#x27;log2&#x27;, n_estimators=200,\n",
       "                       random_state=42)</pre><b>In a Jupyter environment, please rerun this cell to show the HTML representation or trust the notebook. <br />On GitHub, the HTML representation is unable to render, please try loading this page with nbviewer.org.</b></div><div class=\"sk-container\" hidden><div class=\"sk-item\"><div class=\"sk-estimator sk-toggleable\"><input class=\"sk-toggleable__control sk-hidden--visually\" id=\"sk-estimator-id-6\" type=\"checkbox\" checked><label for=\"sk-estimator-id-6\" class=\"sk-toggleable__label sk-toggleable__label-arrow\">RandomForestClassifier</label><div class=\"sk-toggleable__content\"><pre>RandomForestClassifier(max_depth=10, max_features=&#x27;log2&#x27;, n_estimators=200,\n",
       "                       random_state=42)</pre></div></div></div></div></div>"
      ],
      "text/plain": [
       "RandomForestClassifier(max_depth=10, max_features='log2', n_estimators=200,\n",
       "                       random_state=42)"
      ]
     },
     "execution_count": 17,
     "metadata": {},
     "output_type": "execute_result"
    }
   ],
   "source": [
    "best_clf = RandomForestClassifier(random_state=42,**clf.best_params_)\n",
    "best_clf.fit(X_train, y_train)"
   ]
  },
  {
   "cell_type": "markdown",
   "id": "c72b2d38",
   "metadata": {},
   "source": [
    "#### Evaluate the model on Test set & Train set :  \n",
    "The train AUC score below can lead us to overfitting"
   ]
  },
  {
   "cell_type": "code",
   "execution_count": 18,
   "id": "2a67a3c2",
   "metadata": {},
   "outputs": [
    {
     "data": {
      "text/plain": [
       "0.9464622299550529"
      ]
     },
     "execution_count": 18,
     "metadata": {},
     "output_type": "execute_result"
    }
   ],
   "source": [
    "roc_auc_score(y_test, best_clf.predict_proba(X_test)[:,1])"
   ]
  },
  {
   "cell_type": "code",
   "execution_count": 19,
   "id": "05b4d8ee",
   "metadata": {},
   "outputs": [
    {
     "data": {
      "text/plain": [
       "0.9999819307042508"
      ]
     },
     "execution_count": 19,
     "metadata": {},
     "output_type": "execute_result"
    }
   ],
   "source": [
    "roc_auc_score(y_train, best_clf.predict_proba(X_train)[:,1])"
   ]
  },
  {
   "cell_type": "markdown",
   "id": "9cf90156",
   "metadata": {},
   "source": [
    "### 3. Model training using nevergrad\n",
    "More details about the method : https://facebookresearch.github.io/nevergrad/machinelearning.html\n",
    "\n",
    "We build a custom score that prevents us from overfitting : \n",
    "$$score = 1-auc\\_on\\_test + (w*abs((1-auc\\_on\\_train)-(auc\\_on\\_test)))$$\n",
    "where $$ w = fixed\\_weight\\ (example\\ 3) $$"
   ]
  },
  {
   "cell_type": "code",
   "execution_count": 24,
   "id": "66f113bb",
   "metadata": {},
   "outputs": [],
   "source": [
    "def train_and_return_test_error(params, X_train, y_train, X_test, y_test):\n",
    "    rf_clf = RandomForestClassifier(random_state=42, **params)\n",
    "    rf_clf.fit(X_train,y_train)\n",
    "    score_on_test = 1-roc_auc_score(y_test, rf_clf.predict_proba(X_test)[:,1])\n",
    "    score_on_train = 1-roc_auc_score(y_train, rf_clf.predict_proba(X_train)[:,1])\n",
    "    return [score_on_test, score_on_train]\n",
    "\n",
    "# Parametrization is how nevergrad configures the optimizers.\n",
    "# (https://facebookresearch.github.io/nevergrad/parametrization.html)\n",
    "parametrization = ng.p.Dict(\n",
    "    # Discrete params bounded by lower and upper bounds\n",
    "    n_estimators = ng.p.Scalar(init=10, lower=2, upper=1000).set_integer_casting(),\n",
    "    max_depth = ng.p.Scalar(init=None, lower=2, upper=1000).set_integer_casting(),\n",
    "    min_samples_split = ng.p.Scalar(init=2, lower=2, upper=1000).set_integer_casting(),\n",
    "    # Choice between given values.\n",
    "    max_features=ng.p.Choice(['sqrt','log2', None]),\n",
    ")\n",
    "\n",
    "budget = 1000  # How many trainings we will do before concluding.\n",
    "\n",
    "# List of some available optimizers\n",
    "names = [\"RandomSearch\", \"TwoPointsDE\", \"CMA\", \"PSO\", \"ScrHammersleySearch\"]"
   ]
  },
  {
   "cell_type": "code",
   "execution_count": 25,
   "id": "eb5c4694",
   "metadata": {
    "scrolled": false
   },
   "outputs": [
    {
     "name": "stderr",
     "output_type": "stream",
     "text": [
      "100%|████████████████████████████████████████████████████████████████████████████████| 100/100 [07:45<00:00,  4.65s/it]\n"
     ]
    },
    {
     "name": "stdout",
     "output_type": "stream",
     "text": [
      "RandomSearch  provides a vector of parameters {'n_estimators': 7, 'max_depth': 332, 'min_samples_split': 80, 'max_features': 'log2'}  with AUC on test : 0.9209076410033348  (AUC on train   0.9267967655960608 )\n"
     ]
    },
    {
     "name": "stderr",
     "output_type": "stream",
     "text": [
      "100%|████████████████████████████████████████████████████████████████████████████████| 100/100 [07:47<00:00,  4.67s/it]\n"
     ]
    },
    {
     "name": "stdout",
     "output_type": "stream",
     "text": [
      "TwoPointsDE  provides a vector of parameters {'n_estimators': 210, 'max_depth': 304, 'min_samples_split': 150, 'max_features': 'log2'}  with AUC on test : 0.9027475714078584  (AUC on train   0.9058047612594299 )\n"
     ]
    },
    {
     "name": "stderr",
     "output_type": "stream",
     "text": [
      "100%|████████████████████████████████████████████████████████████████████████████████| 100/100 [12:39<00:00,  7.60s/it]\n"
     ]
    },
    {
     "name": "stdout",
     "output_type": "stream",
     "text": [
      "CMA  provides a vector of parameters {'n_estimators': 217, 'max_depth': 497, 'min_samples_split': 149, 'max_features': 'log2'}  with AUC on test : 0.9025300855444396  (AUC on train   0.9061661471744138 )\n"
     ]
    },
    {
     "name": "stderr",
     "output_type": "stream",
     "text": [
      "100%|████████████████████████████████████████████████████████████████████████████████| 100/100 [10:24<00:00,  6.25s/it]\n"
     ]
    },
    {
     "name": "stdout",
     "output_type": "stream",
     "text": [
      "PSO  provides a vector of parameters {'n_estimators': 5, 'max_depth': 685, 'min_samples_split': 76, 'max_features': 'log2'}  with AUC on test : 0.9156879802812817  (AUC on train   0.922667931517369 )\n"
     ]
    },
    {
     "name": "stderr",
     "output_type": "stream",
     "text": [
      "100%|████████████████████████████████████████████████████████████████████████████████| 100/100 [14:05<00:00,  8.46s/it]\n"
     ]
    },
    {
     "name": "stdout",
     "output_type": "stream",
     "text": [
      "ScrHammersleySearch  provides a vector of parameters {'n_estimators': 109, 'max_depth': 29, 'min_samples_split': 83, 'max_features': 'log2'}  with AUC on test : 0.9256198347107438  (AUC on train   0.9405746036048246 )\n"
     ]
    }
   ],
   "source": [
    "all_recommendation = {}\n",
    "\n",
    "for name in names:\n",
    "    optim = ng.optimizers.registry[name](parametrization=parametrization, \n",
    "                                         budget=budget, \n",
    "                                         num_workers=3\n",
    "                                        )\n",
    "    \n",
    "    # Evaluate the model each 10 iterations\n",
    "    for u in tqdm.tqdm(range(budget // 10)):\n",
    "        # Ask and tell can be asynchronous.\n",
    "        # Just be careful that you \"tell\" something that was asked.\n",
    "        # Here we ask 3 times and tell 3 times in order to fake asynchronicity\n",
    "        x1 = optim.ask()\n",
    "        x2 = optim.ask()\n",
    "        x3 = optim.ask()\n",
    "        # The three following lines could be parallelized.\n",
    "        # We could also do things asynchronously, i.e. do one more ask\n",
    "        # as soon as a training is over.\n",
    "        y1 = train_and_return_test_error(x1.value, X_train, y_train, X_test, y_test)\n",
    "        y2 = train_and_return_test_error(x2.value, X_train, y_train, X_test, y_test)\n",
    "        y3 = train_and_return_test_error(x3.value, X_train, y_train, X_test, y_test)\n",
    "        # We want to minimize the test AUC \n",
    "        # but also the difference between train and test AUC\n",
    "        # here we use Fixed Weight (3 times) for the difference\n",
    "        y1_hat = y1[0]+(3*(abs(y1[1]-y1[0])))\n",
    "        y2_hat = y2[0]+(3*(abs(y2[1]-y2[0])))\n",
    "        y3_hat = y3[0]+(3*(abs(y3[1]-y3[0])))\n",
    "        # Tell to optimizers the value of the loss function\n",
    "        optim.tell(x1, y1_hat)\n",
    "        optim.tell(x2, y2_hat)\n",
    "        optim.tell(x3, y3_hat)\n",
    "        \n",
    "    recommendation = optim.recommend()\n",
    "    score = train_and_return_test_error(recommendation.value, X_train, y_train, X_test, y_test)\n",
    "    all_recommendation.update({name:recommendation.value})\n",
    "    \n",
    "    print(name, \" provides a vector of parameters\", \n",
    "          recommendation.value,\" with AUC on test :\",\n",
    "          1-score[0],\" (AUC on train  \",1-score[1],\")\")"
   ]
  },
  {
   "cell_type": "code",
   "execution_count": 64,
   "id": "dac4de50",
   "metadata": {},
   "outputs": [
    {
     "data": {
      "text/plain": [
       "{'RandomSearch': {'n_estimators': 17,\n",
       "  'max_depth': 582,\n",
       "  'min_samples_split': 106,\n",
       "  'max_features': 'sqrt'},\n",
       " 'OnePlusOne': {'n_estimators': 57,\n",
       "  'max_depth': 193,\n",
       "  'min_samples_split': 118,\n",
       "  'max_features': 'sqrt'},\n",
       " 'CMA': {'n_estimators': 65,\n",
       "  'max_depth': 311,\n",
       "  'min_samples_split': 104,\n",
       "  'max_features': None},\n",
       " 'PSO': {'n_estimators': 36,\n",
       "  'max_depth': 702,\n",
       "  'min_samples_split': 68,\n",
       "  'max_features': 'sqrt'},\n",
       " 'ScrHammersleySearch': {'n_estimators': 10,\n",
       "  'max_depth': 78,\n",
       "  'min_samples_split': 89,\n",
       "  'max_features': 'log2'}}"
      ]
     },
     "execution_count": 64,
     "metadata": {},
     "output_type": "execute_result"
    }
   ],
   "source": [
    "all_recommendation"
   ]
  }
 ],
 "metadata": {
  "kernelspec": {
   "display_name": "Python 3 (ipykernel)",
   "language": "python",
   "name": "python3"
  },
  "language_info": {
   "codemirror_mode": {
    "name": "ipython",
    "version": 3
   },
   "file_extension": ".py",
   "mimetype": "text/x-python",
   "name": "python",
   "nbconvert_exporter": "python",
   "pygments_lexer": "ipython3",
   "version": "3.11.3"
  }
 },
 "nbformat": 4,
 "nbformat_minor": 5
}
