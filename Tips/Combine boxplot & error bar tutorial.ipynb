{
 "cells": [
  {
   "cell_type": "code",
   "execution_count": 24,
   "id": "8dd18fd6",
   "metadata": {
    "scrolled": true
   },
   "outputs": [],
   "source": [
    "import pandas as pd\n",
    "import numpy as np\n",
    "import matplotlib.pyplot as plt\n",
    "from sklearn.datasets import make_blobs\n",
    "import seaborn as sns"
   ]
  },
  {
   "cell_type": "markdown",
   "id": "904478ce",
   "metadata": {},
   "source": [
    "### Prepare dataset"
   ]
  },
  {
   "cell_type": "code",
   "execution_count": 23,
   "id": "e4c51475",
   "metadata": {},
   "outputs": [],
   "source": [
    "X1, Y1 = make_classification(\n",
    "    n_features=4, \n",
    "    n_redundant=0, \n",
    "    n_informative=4, \n",
    "    n_clusters_per_class=2, \n",
    "    n_classes=4\n",
    ")"
   ]
  },
  {
   "cell_type": "code",
   "execution_count": 69,
   "id": "64c1d765",
   "metadata": {},
   "outputs": [],
   "source": [
    "X1, Y1 = make_blobs(n_features=1, centers=6)"
   ]
  },
  {
   "cell_type": "code",
   "execution_count": 70,
   "id": "9f2bda34",
   "metadata": {},
   "outputs": [
    {
     "data": {
      "text/html": [
       "<div>\n",
       "<style scoped>\n",
       "    .dataframe tbody tr th:only-of-type {\n",
       "        vertical-align: middle;\n",
       "    }\n",
       "\n",
       "    .dataframe tbody tr th {\n",
       "        vertical-align: top;\n",
       "    }\n",
       "\n",
       "    .dataframe thead th {\n",
       "        text-align: right;\n",
       "    }\n",
       "</style>\n",
       "<table border=\"1\" class=\"dataframe\">\n",
       "  <thead>\n",
       "    <tr style=\"text-align: right;\">\n",
       "      <th></th>\n",
       "      <th>measure</th>\n",
       "      <th>classes</th>\n",
       "    </tr>\n",
       "  </thead>\n",
       "  <tbody>\n",
       "    <tr>\n",
       "      <th>0</th>\n",
       "      <td>2.531802</td>\n",
       "      <td>2</td>\n",
       "    </tr>\n",
       "    <tr>\n",
       "      <th>1</th>\n",
       "      <td>0.820724</td>\n",
       "      <td>2</td>\n",
       "    </tr>\n",
       "    <tr>\n",
       "      <th>2</th>\n",
       "      <td>-3.923122</td>\n",
       "      <td>1</td>\n",
       "    </tr>\n",
       "    <tr>\n",
       "      <th>3</th>\n",
       "      <td>-0.788670</td>\n",
       "      <td>3</td>\n",
       "    </tr>\n",
       "    <tr>\n",
       "      <th>4</th>\n",
       "      <td>-5.291381</td>\n",
       "      <td>1</td>\n",
       "    </tr>\n",
       "    <tr>\n",
       "      <th>...</th>\n",
       "      <td>...</td>\n",
       "      <td>...</td>\n",
       "    </tr>\n",
       "    <tr>\n",
       "      <th>95</th>\n",
       "      <td>2.121539</td>\n",
       "      <td>5</td>\n",
       "    </tr>\n",
       "    <tr>\n",
       "      <th>96</th>\n",
       "      <td>2.899948</td>\n",
       "      <td>5</td>\n",
       "    </tr>\n",
       "    <tr>\n",
       "      <th>97</th>\n",
       "      <td>-5.412629</td>\n",
       "      <td>1</td>\n",
       "    </tr>\n",
       "    <tr>\n",
       "      <th>98</th>\n",
       "      <td>3.332521</td>\n",
       "      <td>5</td>\n",
       "    </tr>\n",
       "    <tr>\n",
       "      <th>99</th>\n",
       "      <td>-0.312403</td>\n",
       "      <td>3</td>\n",
       "    </tr>\n",
       "  </tbody>\n",
       "</table>\n",
       "<p>100 rows × 2 columns</p>\n",
       "</div>"
      ],
      "text/plain": [
       "     measure  classes\n",
       "0   2.531802        2\n",
       "1   0.820724        2\n",
       "2  -3.923122        1\n",
       "3  -0.788670        3\n",
       "4  -5.291381        1\n",
       "..       ...      ...\n",
       "95  2.121539        5\n",
       "96  2.899948        5\n",
       "97 -5.412629        1\n",
       "98  3.332521        5\n",
       "99 -0.312403        3\n",
       "\n",
       "[100 rows x 2 columns]"
      ]
     },
     "execution_count": 70,
     "metadata": {},
     "output_type": "execute_result"
    }
   ],
   "source": [
    "data = pd.DataFrame({\"measure\":np.array(X1).flatten(), \"classes\":Y1})\n",
    "data"
   ]
  },
  {
   "cell_type": "markdown",
   "id": "fef3ff89",
   "metadata": {},
   "source": [
    "### Functions"
   ]
  },
  {
   "cell_type": "code",
   "execution_count": 71,
   "id": "5868e3e4",
   "metadata": {},
   "outputs": [
    {
     "data": {
      "text/plain": [
       "<AxesSubplot:xlabel='classes', ylabel='measure'>"
      ]
     },
     "execution_count": 71,
     "metadata": {},
     "output_type": "execute_result"
    },
    {
     "data": {
      "image/png": "[encoded data removed]",
      "text/plain": [
       "<Figure size 720x432 with 1 Axes>"
      ]
     },
     "metadata": {
      "needs_background": "light"
     },
     "output_type": "display_data"
    }
   ],
   "source": [
    "plt.figure(figsize=(10, 6))\n",
    "#ln_classes = len(data[\"classes\"].unique())\n",
    "sns.boxplot(data=data,\n",
    "            x=\"classes\", \n",
    "            y=\"measure\",  \n",
    "            linewidth=0.3, \n",
    "            palette='viridis'\n",
    "            )"
   ]
  },
  {
   "cell_type": "code",
   "execution_count": 84,
   "id": "4922eb73",
   "metadata": {},
   "outputs": [
    {
     "data": {
      "image/png": "[encoded data removed]",
      "text/plain": [
       "<Figure size 720x432 with 1 Axes>"
      ]
     },
     "metadata": {
      "needs_background": "light"
     },
     "output_type": "display_data"
    }
   ],
   "source": [
    "plt.figure(figsize=(10, 6))\n",
    "ax = sns.pointplot(data=data,\n",
    "                    x=\"classes\", \n",
    "                    y=\"measure\",  \n",
    "                    scale=0.3, \n",
    "                    color='red', \n",
    "                    marker='',\n",
    "                    linestyles='-',\n",
    "                    errorbar=(\"se\",2), #scaled standard error \n",
    "                    capsize=.5,\n",
    "                    errwidth=1.2\n",
    "                    )"
   ]
  },
  {
   "cell_type": "code",
   "execution_count": 87,
   "id": "0336dee7",
   "metadata": {},
   "outputs": [
    {
     "data": {
      "image/png": "[encoded data removed]",
      "text/plain": [
       "<Figure size 720x432 with 1 Axes>"
      ]
     },
     "metadata": {
      "needs_background": "light"
     },
     "output_type": "display_data"
    }
   ],
   "source": [
    "def boxplot_with_errorbar(data, x=\"classes\", y=\"measure\", errorbar=(\"se\",2)):\n",
    "    ### Plot a boxplot for each class\n",
    "    plt.figure(figsize=(10, 6))\n",
    "    ln_classes = len(data[x].unique())\n",
    "    sns.boxplot(data=data,\n",
    "                x=x, \n",
    "                y=y,  \n",
    "                linewidth=0.3, \n",
    "                palette='viridis'\n",
    "                )\n",
    "    \n",
    "    ### Plot a mean line (with error bar) for each class\n",
    "    ax = sns.pointplot(data=data,\n",
    "                        x=x, \n",
    "                        y=y,  \n",
    "                        scale=0.3, \n",
    "                        color='red', \n",
    "                        marker='',\n",
    "                        linestyles='-',\n",
    "                        errorbar=errorbar,\n",
    "                        capsize=.5,\n",
    "                        errwidth=1.2\n",
    "                        )\n",
    "\n",
    "    ### This will limit the number of xticks displayed on the plot \n",
    "    plt.xticks(np.arange(-1, ln_classes, 1.0))\n",
    "    plt.show()\n",
    "\n",
    "boxplot_with_errorbar(data)"
   ]
  }
 ],
 "metadata": {
  "kernelspec": {
   "display_name": "Python 3 (ipykernel)",
   "language": "python",
   "name": "python3"
  },
  "language_info": {
   "codemirror_mode": {
    "name": "ipython",
    "version": 3
   },
   "file_extension": ".py",
   "mimetype": "text/x-python",
   "name": "python",
   "nbconvert_exporter": "python",
   "pygments_lexer": "ipython3",
   "version": "3.11.3"
  }
 },
 "nbformat": 4,
 "nbformat_minor": 5
}
