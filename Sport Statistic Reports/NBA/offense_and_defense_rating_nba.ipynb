{
 "cells": [
  {
   "cell_type": "code",
   "execution_count": 1,
   "metadata": {},
   "outputs": [
    {
     "name": "stdout",
     "output_type": "stream",
     "text": [
      "Collecting nba_api\n",
      "  Downloading nba_api-1.4.1-py3-none-any.whl (261 kB)\n",
      "     ---------------------------------------- 0.0/261.7 kB ? eta -:--:--\n",
      "     - -------------------------------------- 10.2/261.7 kB ? eta -:--:--\n",
      "     ---- -------------------------------- 30.7/261.7 kB 435.7 kB/s eta 0:00:01\n",
      "     ---- -------------------------------- 30.7/261.7 kB 435.7 kB/s eta 0:00:01\n",
      "     ---- -------------------------------- 30.7/261.7 kB 435.7 kB/s eta 0:00:01\n",
      "     ----- ------------------------------- 41.0/261.7 kB 140.3 kB/s eta 0:00:02\n",
      "     ---------- -------------------------- 71.7/261.7 kB 231.0 kB/s eta 0:00:01\n",
      "     --------------- -------------------- 112.6/261.7 kB 312.2 kB/s eta 0:00:01\n",
      "     --------------- -------------------- 112.6/261.7 kB 312.2 kB/s eta 0:00:01\n",
      "     ------------------- ---------------- 143.4/261.7 kB 303.9 kB/s eta 0:00:01\n",
      "     -------------------------- --------- 194.6/261.7 kB 380.0 kB/s eta 0:00:01\n",
      "     ------------------------------ ----- 225.3/261.7 kB 404.2 kB/s eta 0:00:01\n",
      "     -------------------------------- --- 235.5/261.7 kB 411.8 kB/s eta 0:00:01\n",
      "     ------------------------------------ 261.7/261.7 kB 392.2 kB/s eta 0:00:00\n",
      "Collecting certifi<2024.0.0,>=2023.7.22\n",
      "  Downloading certifi-2023.11.17-py3-none-any.whl (162 kB)\n",
      "     ---------------------------------------- 0.0/162.5 kB ? eta -:--:--\n",
      "     ---------------------- ---------------- 92.2/162.5 kB 2.6 MB/s eta 0:00:01\n",
      "     -------------------------------------- 162.5/162.5 kB 3.2 MB/s eta 0:00:00\n",
      "Requirement already satisfied: numpy<2.0.0,>=1.22.2 in c:\\users\\tokya\\miniconda3\\envs\\default\\lib\\site-packages (from nba_api) (1.24.3)\n",
      "Collecting requests<3.0,>=2.31\n",
      "  Using cached requests-2.31.0-py3-none-any.whl (62 kB)\n",
      "Requirement already satisfied: charset-normalizer<4,>=2 in c:\\users\\tokya\\miniconda3\\envs\\default\\lib\\site-packages (from requests<3.0,>=2.31->nba_api) (3.1.0)\n",
      "Requirement already satisfied: idna<4,>=2.5 in c:\\users\\tokya\\miniconda3\\envs\\default\\lib\\site-packages (from requests<3.0,>=2.31->nba_api) (3.4)\n",
      "Requirement already satisfied: urllib3<3,>=1.21.1 in c:\\users\\tokya\\miniconda3\\envs\\default\\lib\\site-packages (from requests<3.0,>=2.31->nba_api) (1.26.15)\n",
      "Installing collected packages: certifi, requests, nba_api\n",
      "  Attempting uninstall: certifi\n",
      "    Found existing installation: certifi 2023.5.7\n",
      "    Uninstalling certifi-2023.5.7:\n",
      "      Successfully uninstalled certifi-2023.5.7\n",
      "  Attempting uninstall: requests\n",
      "    Found existing installation: requests 2.30.0\n",
      "    Uninstalling requests-2.30.0:\n",
      "      Successfully uninstalled requests-2.30.0\n",
      "Successfully installed certifi-2023.11.17 nba_api-1.4.1 requests-2.31.0\n"
     ]
    }
   ],
   "source": [
    "!pip install nba_api"
   ]
  },
  {
   "cell_type": "code",
   "execution_count": 1,
   "metadata": {},
   "outputs": [
    {
     "data": {
      "text/html": [
       "        <script type=\"text/javascript\">\n",
       "        window.PlotlyConfig = {MathJaxConfig: 'local'};\n",
       "        if (window.MathJax && window.MathJax.Hub && window.MathJax.Hub.Config) {window.MathJax.Hub.Config({SVG: {font: \"STIX-Web\"}});}\n",
       "        if (typeof require !== 'undefined') {\n",
       "        require.undef(\"plotly\");\n",
       "        requirejs.config({\n",
       "            paths: {\n",
       "                'plotly': ['https://cdn.plot.ly/plotly-2.25.2.min']\n",
       "            }\n",
       "        });\n",
       "        require(['plotly'], function(Plotly) {\n",
       "            window._Plotly = Plotly;\n",
       "        });\n",
       "        }\n",
       "        </script>\n",
       "        "
      ]
     },
     "metadata": {},
     "output_type": "display_data"
    }
   ],
   "source": [
    "import pandas as pd\n",
    "import numpy as np\n",
    "#import plotly.express as px\n",
    "import plotly.graph_objects as go\n",
    "from plotly.offline import iplot, init_notebook_mode\n",
    "init_notebook_mode(connected=True)"
   ]
  },
  {
   "cell_type": "markdown",
   "metadata": {},
   "source": [
    "### Load Data\n",
    "Fetch data from a free NBA Stat API"
   ]
  },
  {
   "cell_type": "code",
   "execution_count": 2,
   "metadata": {},
   "outputs": [],
   "source": [
    "### Get All teams\n",
    "from nba_api.stats.static import teams\n",
    "\n",
    "nba_teams = teams.get_teams()"
   ]
  },
  {
   "cell_type": "code",
   "execution_count": 3,
   "metadata": {},
   "outputs": [
    {
     "data": {
      "text/html": [
       "<div>\n",
       "<style scoped>\n",
       "    .dataframe tbody tr th:only-of-type {\n",
       "        vertical-align: middle;\n",
       "    }\n",
       "\n",
       "    .dataframe tbody tr th {\n",
       "        vertical-align: top;\n",
       "    }\n",
       "\n",
       "    .dataframe thead th {\n",
       "        text-align: right;\n",
       "    }\n",
       "</style>\n",
       "<table border=\"1\" class=\"dataframe\">\n",
       "  <thead>\n",
       "    <tr style=\"text-align: right;\">\n",
       "      <th></th>\n",
       "      <th>SEASON_ID</th>\n",
       "      <th>TEAM_ID</th>\n",
       "      <th>TEAM_ABBREVIATION</th>\n",
       "      <th>TEAM_NAME</th>\n",
       "      <th>GAME_ID</th>\n",
       "      <th>GAME_DATE</th>\n",
       "      <th>MATCHUP</th>\n",
       "      <th>WL</th>\n",
       "      <th>MIN</th>\n",
       "      <th>PTS</th>\n",
       "      <th>...</th>\n",
       "      <th>FT_PCT</th>\n",
       "      <th>OREB</th>\n",
       "      <th>DREB</th>\n",
       "      <th>REB</th>\n",
       "      <th>AST</th>\n",
       "      <th>STL</th>\n",
       "      <th>BLK</th>\n",
       "      <th>TOV</th>\n",
       "      <th>PF</th>\n",
       "      <th>PLUS_MINUS</th>\n",
       "    </tr>\n",
       "  </thead>\n",
       "  <tbody>\n",
       "    <tr>\n",
       "      <th>0</th>\n",
       "      <td>22023</td>\n",
       "      <td>1610612737</td>\n",
       "      <td>ATL</td>\n",
       "      <td>Atlanta Hawks</td>\n",
       "      <td>0022300393</td>\n",
       "      <td>2023-12-23</td>\n",
       "      <td>ATL vs. MEM</td>\n",
       "      <td>L</td>\n",
       "      <td>239</td>\n",
       "      <td>119</td>\n",
       "      <td>...</td>\n",
       "      <td>0.800</td>\n",
       "      <td>13</td>\n",
       "      <td>28</td>\n",
       "      <td>41</td>\n",
       "      <td>28</td>\n",
       "      <td>8.0</td>\n",
       "      <td>5</td>\n",
       "      <td>10</td>\n",
       "      <td>22</td>\n",
       "      <td>-6.0</td>\n",
       "    </tr>\n",
       "    <tr>\n",
       "      <th>1</th>\n",
       "      <td>22023</td>\n",
       "      <td>1610612737</td>\n",
       "      <td>ATL</td>\n",
       "      <td>Atlanta Hawks</td>\n",
       "      <td>0022300384</td>\n",
       "      <td>2023-12-22</td>\n",
       "      <td>ATL @ MIA</td>\n",
       "      <td>L</td>\n",
       "      <td>240</td>\n",
       "      <td>113</td>\n",
       "      <td>...</td>\n",
       "      <td>0.714</td>\n",
       "      <td>12</td>\n",
       "      <td>31</td>\n",
       "      <td>43</td>\n",
       "      <td>29</td>\n",
       "      <td>9.0</td>\n",
       "      <td>2</td>\n",
       "      <td>13</td>\n",
       "      <td>23</td>\n",
       "      <td>-9.0</td>\n",
       "    </tr>\n",
       "    <tr>\n",
       "      <th>2</th>\n",
       "      <td>22023</td>\n",
       "      <td>1610612737</td>\n",
       "      <td>ATL</td>\n",
       "      <td>Atlanta Hawks</td>\n",
       "      <td>0022300371</td>\n",
       "      <td>2023-12-20</td>\n",
       "      <td>ATL @ HOU</td>\n",
       "      <td>W</td>\n",
       "      <td>240</td>\n",
       "      <td>134</td>\n",
       "      <td>...</td>\n",
       "      <td>0.821</td>\n",
       "      <td>12</td>\n",
       "      <td>32</td>\n",
       "      <td>44</td>\n",
       "      <td>31</td>\n",
       "      <td>4.0</td>\n",
       "      <td>3</td>\n",
       "      <td>9</td>\n",
       "      <td>18</td>\n",
       "      <td>7.0</td>\n",
       "    </tr>\n",
       "    <tr>\n",
       "      <th>3</th>\n",
       "      <td>22023</td>\n",
       "      <td>1610612737</td>\n",
       "      <td>ATL</td>\n",
       "      <td>Atlanta Hawks</td>\n",
       "      <td>0022300352</td>\n",
       "      <td>2023-12-18</td>\n",
       "      <td>ATL vs. DET</td>\n",
       "      <td>W</td>\n",
       "      <td>240</td>\n",
       "      <td>130</td>\n",
       "      <td>...</td>\n",
       "      <td>0.815</td>\n",
       "      <td>11</td>\n",
       "      <td>29</td>\n",
       "      <td>40</td>\n",
       "      <td>25</td>\n",
       "      <td>6.0</td>\n",
       "      <td>10</td>\n",
       "      <td>17</td>\n",
       "      <td>24</td>\n",
       "      <td>6.0</td>\n",
       "    </tr>\n",
       "    <tr>\n",
       "      <th>4</th>\n",
       "      <td>22023</td>\n",
       "      <td>1610612737</td>\n",
       "      <td>ATL</td>\n",
       "      <td>Atlanta Hawks</td>\n",
       "      <td>0022300336</td>\n",
       "      <td>2023-12-16</td>\n",
       "      <td>ATL @ CLE</td>\n",
       "      <td>L</td>\n",
       "      <td>239</td>\n",
       "      <td>119</td>\n",
       "      <td>...</td>\n",
       "      <td>0.880</td>\n",
       "      <td>6</td>\n",
       "      <td>28</td>\n",
       "      <td>34</td>\n",
       "      <td>21</td>\n",
       "      <td>5.0</td>\n",
       "      <td>4</td>\n",
       "      <td>11</td>\n",
       "      <td>21</td>\n",
       "      <td>-8.0</td>\n",
       "    </tr>\n",
       "  </tbody>\n",
       "</table>\n",
       "<p>5 rows × 28 columns</p>\n",
       "</div>"
      ],
      "text/plain": [
       "  SEASON_ID     TEAM_ID TEAM_ABBREVIATION      TEAM_NAME     GAME_ID   \n",
       "0     22023  1610612737               ATL  Atlanta Hawks  0022300393  \\\n",
       "1     22023  1610612737               ATL  Atlanta Hawks  0022300384   \n",
       "2     22023  1610612737               ATL  Atlanta Hawks  0022300371   \n",
       "3     22023  1610612737               ATL  Atlanta Hawks  0022300352   \n",
       "4     22023  1610612737               ATL  Atlanta Hawks  0022300336   \n",
       "\n",
       "   GAME_DATE      MATCHUP WL  MIN  PTS  ...  FT_PCT  OREB  DREB  REB  AST   \n",
       "0 2023-12-23  ATL vs. MEM  L  239  119  ...   0.800    13    28   41   28  \\\n",
       "1 2023-12-22    ATL @ MIA  L  240  113  ...   0.714    12    31   43   29   \n",
       "2 2023-12-20    ATL @ HOU  W  240  134  ...   0.821    12    32   44   31   \n",
       "3 2023-12-18  ATL vs. DET  W  240  130  ...   0.815    11    29   40   25   \n",
       "4 2023-12-16    ATL @ CLE  L  239  119  ...   0.880     6    28   34   21   \n",
       "\n",
       "   STL  BLK  TOV  PF  PLUS_MINUS  \n",
       "0  8.0    5   10  22        -6.0  \n",
       "1  9.0    2   13  23        -9.0  \n",
       "2  4.0    3    9  18         7.0  \n",
       "3  6.0   10   17  24         6.0  \n",
       "4  5.0    4   11  21        -8.0  \n",
       "\n",
       "[5 rows x 28 columns]"
      ]
     },
     "execution_count": 3,
     "metadata": {},
     "output_type": "execute_result"
    }
   ],
   "source": [
    "from nba_api.stats.endpoints import leaguegamefinder\n",
    "\n",
    "### Get games of current season\n",
    "games_per_team = []\n",
    "for team in nba_teams:\n",
    "    gamefinder = leaguegamefinder.LeagueGameFinder(team_id_nullable=team['id'])\n",
    "    games = gamefinder.get_data_frames()[0]\n",
    "    games.GAME_DATE = pd.to_datetime(games.GAME_DATE)\n",
    "    games_per_team.append(games[(games.SEASON_ID == '22023') & (games.GAME_DATE >= '2023-10-24')])\n",
    "\n",
    "games_per_team[0].head()\n"
   ]
  },
  {
   "cell_type": "code",
   "execution_count": 61,
   "metadata": {},
   "outputs": [],
   "source": [
    "from nba_api.stats.endpoints import boxscoreadvancedv3\n",
    "\n",
    "### Get the mean of Offense, Defense and Net rating\n",
    "target_stats = []\n",
    "for team in games_per_team:\n",
    "    WL = team.WL.value_counts().reset_index()\n",
    "    W = WL[WL.WL == 'W']['count'].values[0]\n",
    "    L = WL[WL.WL == 'L']['count'].values[0]\n",
    "    target_stats.append({'team_abbreviation':team.TEAM_ABBREVIATION.unique()[0],\n",
    "                         'team_name':team.TEAM_NAME.unique()[0],\n",
    "                         'game_date':team.GAME_DATE.to_list(),\n",
    "                         'W':W,\n",
    "                         'L':L,\n",
    "                         'offensive_rating':[], \n",
    "                         'defensive_rating':[],\n",
    "                         'possessions':[] \n",
    "                         })\n",
    "    \n",
    "    for id in team.GAME_ID.to_list():\n",
    "        stats = boxscoreadvancedv3.BoxScoreAdvancedV3(game_id=id) \n",
    "        if team[team.GAME_ID == id].MATCHUP.values[0][4] == \"@\":  ### Away Team\n",
    "            target_stats[-1]['offensive_rating'].append(stats.get_dict()['boxScoreAdvanced']['awayTeam']['statistics']['offensiveRating'])\n",
    "            target_stats[-1]['defensive_rating'].append(stats.get_dict()['boxScoreAdvanced']['awayTeam']['statistics']['defensiveRating'])\n",
    "            target_stats[-1]['possessions'].append(stats.get_dict()['boxScoreAdvanced']['awayTeam']['statistics']['possessions'])\n",
    "        else:\n",
    "            target_stats[-1]['offensive_rating'].append(stats.get_dict()['boxScoreAdvanced']['homeTeam']['statistics']['offensiveRating'])\n",
    "            target_stats[-1]['defensive_rating'].append(stats.get_dict()['boxScoreAdvanced']['homeTeam']['statistics']['defensiveRating'])\n",
    "            target_stats[-1]['possessions'].append(stats.get_dict()['boxScoreAdvanced']['homeTeam']['statistics']['possessions'])\n",
    "        \n",
    "        "
   ]
  },
  {
   "cell_type": "markdown",
   "metadata": {},
   "source": [
    "Important : Check if the team is hometeam or awayteam and get the right statistics"
   ]
  },
  {
   "cell_type": "markdown",
   "metadata": {},
   "source": [
    "### Dashboard by Plotly"
   ]
  },
  {
   "cell_type": "code",
   "execution_count": 62,
   "metadata": {},
   "outputs": [
    {
     "data": {
      "text/html": [
       "<div>\n",
       "<style scoped>\n",
       "    .dataframe tbody tr th:only-of-type {\n",
       "        vertical-align: middle;\n",
       "    }\n",
       "\n",
       "    .dataframe tbody tr th {\n",
       "        vertical-align: top;\n",
       "    }\n",
       "\n",
       "    .dataframe thead th {\n",
       "        text-align: right;\n",
       "    }\n",
       "</style>\n",
       "<table border=\"1\" class=\"dataframe\">\n",
       "  <thead>\n",
       "    <tr style=\"text-align: right;\">\n",
       "      <th></th>\n",
       "      <th>team_abbreviation</th>\n",
       "      <th>team_name</th>\n",
       "      <th>game_date</th>\n",
       "      <th>W</th>\n",
       "      <th>L</th>\n",
       "      <th>offensive_rating</th>\n",
       "      <th>defensive_rating</th>\n",
       "      <th>possessions</th>\n",
       "      <th>GP</th>\n",
       "      <th>PCT_W</th>\n",
       "      <th>PCT_W_rank</th>\n",
       "    </tr>\n",
       "  </thead>\n",
       "  <tbody>\n",
       "    <tr>\n",
       "      <th>0</th>\n",
       "      <td>ATL</td>\n",
       "      <td>Atlanta Hawks</td>\n",
       "      <td>[2023-12-23 00:00:00, 2023-12-22 00:00:00, 202...</td>\n",
       "      <td>12</td>\n",
       "      <td>17</td>\n",
       "      <td>[119.0, 111.9, 135.4, 126.2, 122.7, 123.8, 125...</td>\n",
       "      <td>[125.0, 122.0, 128.3, 120.4, 130.9, 104.0, 133...</td>\n",
       "      <td>[100.0, 101.0, 99.0, 103.0, 97.0, 101.0, 102.0...</td>\n",
       "      <td>29</td>\n",
       "      <td>41.379310</td>\n",
       "      <td>22</td>\n",
       "    </tr>\n",
       "    <tr>\n",
       "      <th>1</th>\n",
       "      <td>BOS</td>\n",
       "      <td>Boston Celtics</td>\n",
       "      <td>[2023-12-23 00:00:00, 2023-12-20 00:00:00, 202...</td>\n",
       "      <td>22</td>\n",
       "      <td>6</td>\n",
       "      <td>[146.5, 151.6, 117.8, 115.2, 129.3, 119.6, 123...</td>\n",
       "      <td>[111.3, 124.0, 122.2, 99.0, 113.3, 111.5, 116....</td>\n",
       "      <td>[99.0, 95.0, 107.0, 99.0, 99.0, 97.0, 97.0, 99...</td>\n",
       "      <td>28</td>\n",
       "      <td>78.571429</td>\n",
       "      <td>1</td>\n",
       "    </tr>\n",
       "    <tr>\n",
       "      <th>2</th>\n",
       "      <td>CLE</td>\n",
       "      <td>Cleveland Cavaliers</td>\n",
       "      <td>[2023-12-23 00:00:00, 2023-12-21 00:00:00, 202...</td>\n",
       "      <td>17</td>\n",
       "      <td>13</td>\n",
       "      <td>[118.5, 113.0, 126.5, 131.1, 130.9, 111.5, 116...</td>\n",
       "      <td>[101.1, 130.9, 117.2, 126.2, 122.7, 119.6, 123...</td>\n",
       "      <td>[92.0, 92.0, 98.0, 103.0, 97.0, 96.0, 97.0, 92...</td>\n",
       "      <td>30</td>\n",
       "      <td>56.666667</td>\n",
       "      <td>13</td>\n",
       "    </tr>\n",
       "    <tr>\n",
       "      <th>3</th>\n",
       "      <td>NOP</td>\n",
       "      <td>New Orleans Pelicans</td>\n",
       "      <td>[2023-12-23 00:00:00, 2023-12-21 00:00:00, 202...</td>\n",
       "      <td>17</td>\n",
       "      <td>13</td>\n",
       "      <td>[110.6, 130.9, 117.7, 135.2, 112.0, 134.0, 119...</td>\n",
       "      <td>[110.4, 113.0, 118.6, 100.9, 108.1, 116.2, 104...</td>\n",
       "      <td>[94.0, 94.0, 96.0, 108.0, 100.0, 106.0, 101.0,...</td>\n",
       "      <td>30</td>\n",
       "      <td>56.666667</td>\n",
       "      <td>13</td>\n",
       "    </tr>\n",
       "    <tr>\n",
       "      <th>4</th>\n",
       "      <td>CHI</td>\n",
       "      <td>Chicago Bulls</td>\n",
       "      <td>[2023-12-23 00:00:00, 2023-12-21 00:00:00, 202...</td>\n",
       "      <td>13</td>\n",
       "      <td>18</td>\n",
       "      <td>[101.1, 116.3, 120.4, 113.7, 127.5, 126.5, 112...</td>\n",
       "      <td>[118.5, 96.0, 104.9, 108.3, 129.7, 117.2, 122....</td>\n",
       "      <td>[94.0, 98.0, 103.0, 95.0, 91.0, 98.0, 94.0, 10...</td>\n",
       "      <td>31</td>\n",
       "      <td>41.935484</td>\n",
       "      <td>21</td>\n",
       "    </tr>\n",
       "  </tbody>\n",
       "</table>\n",
       "</div>"
      ],
      "text/plain": [
       "  team_abbreviation             team_name   \n",
       "0               ATL         Atlanta Hawks  \\\n",
       "1               BOS        Boston Celtics   \n",
       "2               CLE   Cleveland Cavaliers   \n",
       "3               NOP  New Orleans Pelicans   \n",
       "4               CHI         Chicago Bulls   \n",
       "\n",
       "                                           game_date   W   L   \n",
       "0  [2023-12-23 00:00:00, 2023-12-22 00:00:00, 202...  12  17  \\\n",
       "1  [2023-12-23 00:00:00, 2023-12-20 00:00:00, 202...  22   6   \n",
       "2  [2023-12-23 00:00:00, 2023-12-21 00:00:00, 202...  17  13   \n",
       "3  [2023-12-23 00:00:00, 2023-12-21 00:00:00, 202...  17  13   \n",
       "4  [2023-12-23 00:00:00, 2023-12-21 00:00:00, 202...  13  18   \n",
       "\n",
       "                                    offensive_rating   \n",
       "0  [119.0, 111.9, 135.4, 126.2, 122.7, 123.8, 125...  \\\n",
       "1  [146.5, 151.6, 117.8, 115.2, 129.3, 119.6, 123...   \n",
       "2  [118.5, 113.0, 126.5, 131.1, 130.9, 111.5, 116...   \n",
       "3  [110.6, 130.9, 117.7, 135.2, 112.0, 134.0, 119...   \n",
       "4  [101.1, 116.3, 120.4, 113.7, 127.5, 126.5, 112...   \n",
       "\n",
       "                                    defensive_rating   \n",
       "0  [125.0, 122.0, 128.3, 120.4, 130.9, 104.0, 133...  \\\n",
       "1  [111.3, 124.0, 122.2, 99.0, 113.3, 111.5, 116....   \n",
       "2  [101.1, 130.9, 117.2, 126.2, 122.7, 119.6, 123...   \n",
       "3  [110.4, 113.0, 118.6, 100.9, 108.1, 116.2, 104...   \n",
       "4  [118.5, 96.0, 104.9, 108.3, 129.7, 117.2, 122....   \n",
       "\n",
       "                                         possessions  GP      PCT_W   \n",
       "0  [100.0, 101.0, 99.0, 103.0, 97.0, 101.0, 102.0...  29  41.379310  \\\n",
       "1  [99.0, 95.0, 107.0, 99.0, 99.0, 97.0, 97.0, 99...  28  78.571429   \n",
       "2  [92.0, 92.0, 98.0, 103.0, 97.0, 96.0, 97.0, 92...  30  56.666667   \n",
       "3  [94.0, 94.0, 96.0, 108.0, 100.0, 106.0, 101.0,...  30  56.666667   \n",
       "4  [94.0, 98.0, 103.0, 95.0, 91.0, 98.0, 94.0, 10...  31  41.935484   \n",
       "\n",
       "   PCT_W_rank  \n",
       "0          22  \n",
       "1           1  \n",
       "2          13  \n",
       "3          13  \n",
       "4          21  "
      ]
     },
     "execution_count": 62,
     "metadata": {},
     "output_type": "execute_result"
    }
   ],
   "source": [
    "### Compute metrics\n",
    "data = pd.DataFrame(target_stats)\n",
    "data.offensive_rating = data.offensive_rating.apply(np.array)\n",
    "data.defensive_rating = data.defensive_rating.apply(np.array)\n",
    "data.possessions = data.possessions.apply(np.array)\n",
    "data['GP'] = data.W + data.L\n",
    "data['PCT_W'] = (data.W / data.GP)*100\n",
    "data['PCT_W_rank'] = data.PCT_W.rank(method='min', ascending=False).astype('int64')\n",
    "data.head()"
   ]
  },
  {
   "cell_type": "code",
   "execution_count": 63,
   "metadata": {},
   "outputs": [
    {
     "data": {
      "text/html": [
       "<div>\n",
       "<style scoped>\n",
       "    .dataframe tbody tr th:only-of-type {\n",
       "        vertical-align: middle;\n",
       "    }\n",
       "\n",
       "    .dataframe tbody tr th {\n",
       "        vertical-align: top;\n",
       "    }\n",
       "\n",
       "    .dataframe thead th {\n",
       "        text-align: right;\n",
       "    }\n",
       "</style>\n",
       "<table border=\"1\" class=\"dataframe\">\n",
       "  <thead>\n",
       "    <tr style=\"text-align: right;\">\n",
       "      <th></th>\n",
       "      <th>team_abbreviation</th>\n",
       "      <th>team_name</th>\n",
       "      <th>game_date</th>\n",
       "      <th>W</th>\n",
       "      <th>L</th>\n",
       "      <th>offensive_rating</th>\n",
       "      <th>defensive_rating</th>\n",
       "      <th>possessions</th>\n",
       "      <th>GP</th>\n",
       "      <th>PCT_W</th>\n",
       "      <th>PCT_W_rank</th>\n",
       "      <th>net_rating</th>\n",
       "      <th>label</th>\n",
       "      <th>team_color</th>\n",
       "    </tr>\n",
       "  </thead>\n",
       "  <tbody>\n",
       "    <tr>\n",
       "      <th>0</th>\n",
       "      <td>BOS</td>\n",
       "      <td>Boston Celtics</td>\n",
       "      <td>[2023-12-23 00:00:00, 2023-12-20 00:00:00, 202...</td>\n",
       "      <td>22</td>\n",
       "      <td>6</td>\n",
       "      <td>120.5</td>\n",
       "      <td>110.3</td>\n",
       "      <td>[99.0, 95.0, 107.0, 99.0, 99.0, 97.0, 97.0, 99...</td>\n",
       "      <td>28</td>\n",
       "      <td>78.571429</td>\n",
       "      <td>1</td>\n",
       "      <td>10.2</td>\n",
       "      <td>1-BOS</td>\n",
       "      <td>#008248</td>\n",
       "    </tr>\n",
       "    <tr>\n",
       "      <th>1</th>\n",
       "      <td>MIN</td>\n",
       "      <td>Minnesota Timberwolves</td>\n",
       "      <td>[2023-12-23 00:00:00, 2023-12-21 00:00:00, 202...</td>\n",
       "      <td>22</td>\n",
       "      <td>6</td>\n",
       "      <td>114.1</td>\n",
       "      <td>107.5</td>\n",
       "      <td>[97.0, 102.0, 100.0, 97.0, 99.0, 101.0, 102.0,...</td>\n",
       "      <td>28</td>\n",
       "      <td>78.571429</td>\n",
       "      <td>1</td>\n",
       "      <td>6.6</td>\n",
       "      <td>1-MIN</td>\n",
       "      <td>#236192</td>\n",
       "    </tr>\n",
       "    <tr>\n",
       "      <th>2</th>\n",
       "      <td>MIL</td>\n",
       "      <td>Milwaukee Bucks</td>\n",
       "      <td>[2023-12-23 00:00:00, 2023-12-21 00:00:00, 202...</td>\n",
       "      <td>22</td>\n",
       "      <td>7</td>\n",
       "      <td>120.5</td>\n",
       "      <td>115.0</td>\n",
       "      <td>[103.0, 104.0, 110.0, 99.0, 104.0, 111.0, 109....</td>\n",
       "      <td>29</td>\n",
       "      <td>75.862069</td>\n",
       "      <td>3</td>\n",
       "      <td>5.5</td>\n",
       "      <td>3-MIL</td>\n",
       "      <td>#00471b</td>\n",
       "    </tr>\n",
       "    <tr>\n",
       "      <th>3</th>\n",
       "      <td>PHI</td>\n",
       "      <td>Philadelphia 76ers</td>\n",
       "      <td>[2023-12-22 00:00:00, 2023-12-20 00:00:00, 202...</td>\n",
       "      <td>20</td>\n",
       "      <td>8</td>\n",
       "      <td>121.5</td>\n",
       "      <td>110.1</td>\n",
       "      <td>[100.0, 101.0, 96.0, 98.0, 103.0, 103.0, 109.0...</td>\n",
       "      <td>28</td>\n",
       "      <td>71.428571</td>\n",
       "      <td>4</td>\n",
       "      <td>11.4</td>\n",
       "      <td>4-PHI</td>\n",
       "      <td>#006bb6</td>\n",
       "    </tr>\n",
       "    <tr>\n",
       "      <th>4</th>\n",
       "      <td>DEN</td>\n",
       "      <td>Denver Nuggets</td>\n",
       "      <td>[2023-12-23 00:00:00, 2023-12-22 00:00:00, 202...</td>\n",
       "      <td>21</td>\n",
       "      <td>10</td>\n",
       "      <td>117.9</td>\n",
       "      <td>112.6</td>\n",
       "      <td>[98.0, 95.0, 96.0, 96.0, 99.0, 103.0, 93.0, 99...</td>\n",
       "      <td>31</td>\n",
       "      <td>67.741935</td>\n",
       "      <td>5</td>\n",
       "      <td>5.3</td>\n",
       "      <td>5-DEN</td>\n",
       "      <td>#0d2240</td>\n",
       "    </tr>\n",
       "  </tbody>\n",
       "</table>\n",
       "</div>"
      ],
      "text/plain": [
       "  team_abbreviation               team_name   \n",
       "0               BOS          Boston Celtics  \\\n",
       "1               MIN  Minnesota Timberwolves   \n",
       "2               MIL         Milwaukee Bucks   \n",
       "3               PHI      Philadelphia 76ers   \n",
       "4               DEN          Denver Nuggets   \n",
       "\n",
       "                                           game_date   W   L   \n",
       "0  [2023-12-23 00:00:00, 2023-12-20 00:00:00, 202...  22   6  \\\n",
       "1  [2023-12-23 00:00:00, 2023-12-21 00:00:00, 202...  22   6   \n",
       "2  [2023-12-23 00:00:00, 2023-12-21 00:00:00, 202...  22   7   \n",
       "3  [2023-12-22 00:00:00, 2023-12-20 00:00:00, 202...  20   8   \n",
       "4  [2023-12-23 00:00:00, 2023-12-22 00:00:00, 202...  21  10   \n",
       "\n",
       "   offensive_rating  defensive_rating   \n",
       "0             120.5             110.3  \\\n",
       "1             114.1             107.5   \n",
       "2             120.5             115.0   \n",
       "3             121.5             110.1   \n",
       "4             117.9             112.6   \n",
       "\n",
       "                                         possessions  GP      PCT_W   \n",
       "0  [99.0, 95.0, 107.0, 99.0, 99.0, 97.0, 97.0, 99...  28  78.571429  \\\n",
       "1  [97.0, 102.0, 100.0, 97.0, 99.0, 101.0, 102.0,...  28  78.571429   \n",
       "2  [103.0, 104.0, 110.0, 99.0, 104.0, 111.0, 109....  29  75.862069   \n",
       "3  [100.0, 101.0, 96.0, 98.0, 103.0, 103.0, 109.0...  28  71.428571   \n",
       "4  [98.0, 95.0, 96.0, 96.0, 99.0, 103.0, 93.0, 99...  31  67.741935   \n",
       "\n",
       "   PCT_W_rank  net_rating  label team_color  \n",
       "0           1        10.2  1-BOS    #008248  \n",
       "1           1         6.6  1-MIN    #236192  \n",
       "2           3         5.5  3-MIL    #00471b  \n",
       "3           4        11.4  4-PHI    #006bb6  \n",
       "4           5         5.3  5-DEN    #0d2240  "
      ]
     },
     "metadata": {},
     "output_type": "display_data"
    }
   ],
   "source": [
    "### Data preparation for the dashboard\n",
    "df = data\n",
    "df.offensive_rating = df.offensive_rating.apply(np.mean).round(1)\n",
    "df.defensive_rating = df.defensive_rating.apply(np.mean).round(1)\n",
    "df['net_rating'] = df.offensive_rating - df.defensive_rating\n",
    "df.net_rating = df.net_rating.round(1)\n",
    "df['label'] = df.PCT_W_rank.astype('str') + '-' + df.team_abbreviation.astype('str')\n",
    "df.sort_values(by='PCT_W_rank', inplace=True)\n",
    "\n",
    "### Team colors\n",
    "colors = pd.DataFrame({\n",
    "    'team_abbreviation':['BOS', 'MIN', 'MIL', 'PHI', 'DEN', 'OKC', 'SAC', 'ORL', 'DAL',\n",
    "       'LAC', 'MIA', 'NYK', 'CLE', 'NOP', 'HOU', 'LAL', 'GSW', 'IND',\n",
    "       'PHX', 'BKN', 'CHI', 'ATL', 'UTA', 'TOR', 'MEM', 'CHA', 'POR',\n",
    "       'WAS', 'SAS', 'DET'],\n",
    "    'team_color':['#008248','#236192','#00471b','#006bb6','#0d2240','#007ac1','#5b2b82','#0b77bd','#007dc5',\n",
    "                  '#1d428a','#98002e','#f58426','#6f2633','#b4975a','#ce1141','#552583','#fdb927','#002d62',\n",
    "                  '#b95915','Black','#ce1141','#e03a3e','#2b5134','#a0a0a3','#5d76a9','#00788c','#cf0a2c',\n",
    "                  '#002b5c','Black','#1d428a'\n",
    "                  ]\n",
    "})\n",
    "\n",
    "df = df.merge(colors, on='team_abbreviation', how='left')\n",
    "\n",
    "display(df.head())"
   ]
  },
  {
   "cell_type": "code",
   "execution_count": 66,
   "metadata": {},
   "outputs": [
    {
     "data": {
      "application/vnd.plotly.v1+json": {
       "config": {
        "linkText": "Export to plot.ly",
        "plotlyServerURL": "https://plot.ly",
        "showLink": false
       },
       "data": [
        {
         "hovertemplate": "%{text} <br>off_rtg: %{x} </br> def_rtg: %{y}",
         "marker": {
          "color": [
           "#008248",
           "#236192",
           "#00471b",
           "#006bb6",
           "#0d2240",
           "#007ac1",
           "#5b2b82",
           "#0b77bd",
           "#007dc5",
           "#1d428a",
           "#98002e",
           "#f58426",
           "#6f2633",
           "#b4975a",
           "#ce1141",
           "#552583",
           "#fdb927",
           "#002d62",
           "#b95915",
           "Black",
           "#ce1141",
           "#e03a3e",
           "#2b5134",
           "#a0a0a3",
           "#5d76a9",
           "#00788c",
           "#cf0a2c",
           "#002b5c",
           "Black",
           "#1d428a"
          ],
          "size": 7
         },
         "mode": "markers+text",
         "name": "team",
         "text": [
          "1-BOS",
          "1-MIN",
          "3-MIL",
          "4-PHI",
          "5-DEN",
          "6-OKC",
          "7-SAC",
          "7-ORL",
          "9-DAL",
          "9-LAC",
          "9-MIA",
          "12-NYK",
          "13-CLE",
          "13-NOP",
          "15-HOU",
          "16-LAL",
          "17-GSW",
          "18-IND",
          "18-PHX",
          "20-BKN",
          "21-CHI",
          "22-ATL",
          "23-UTA",
          "24-TOR",
          "25-MEM",
          "26-CHA",
          "27-POR",
          "28-WAS",
          "29-SAS",
          "30-DET"
         ],
         "textfont": {
          "color": [
           "#008248",
           "#236192",
           "#00471b",
           "#006bb6",
           "#0d2240",
           "#007ac1",
           "#5b2b82",
           "#0b77bd",
           "#007dc5",
           "#1d428a",
           "#98002e",
           "#f58426",
           "#6f2633",
           "#b4975a",
           "#ce1141",
           "#552583",
           "#fdb927",
           "#002d62",
           "#b95915",
           "Black",
           "#ce1141",
           "#e03a3e",
           "#2b5134",
           "#a0a0a3",
           "#5d76a9",
           "#00788c",
           "#cf0a2c",
           "#002b5c",
           "Black",
           "#1d428a"
          ],
          "size": 7
         },
         "textposition": "top center",
         "texttemplate": "<b>[%{text}]</b>",
         "type": "scatter",
         "x": [
          120.5,
          114.1,
          120.5,
          121.5,
          117.9,
          118.2,
          116,
          113.4,
          117.7,
          117.5,
          115.7,
          117.1,
          113.2,
          115.3,
          113.1,
          112.2,
          115.7,
          122,
          115.6,
          117,
          112.4,
          119.4,
          111.7,
          113,
          107.5,
          110.7,
          108.3,
          112.4,
          106.5,
          107.8
         ],
         "y": [
          110.3,
          107.5,
          115,
          110.1,
          112.6,
          110.9,
          116,
          110.5,
          116.9,
          113.8,
          113.9,
          114.2,
          112.9,
          112.8,
          109.7,
          112.7,
          114.5,
          121.2,
          115.1,
          116.4,
          115.3,
          119.9,
          118.2,
          115.3,
          112.7,
          121.4,
          115.3,
          121.3,
          118.6,
          119.1
         ]
        },
        {
         "cells": {
          "align": "center",
          "fill": {
           "color": "snow"
          },
          "values": [
           [
            "BOS",
            "MIN",
            "MIL",
            "PHI",
            "DEN",
            "OKC",
            "SAC",
            "ORL",
            "DAL",
            "LAC",
            "MIA",
            "NYK",
            "CLE",
            "NOP",
            "HOU",
            "LAL",
            "GSW",
            "IND",
            "PHX",
            "BKN",
            "CHI",
            "ATL",
            "UTA",
            "TOR",
            "MEM",
            "CHA",
            "POR",
            "WAS",
            "SAS",
            "DET"
           ],
           [
            1,
            1,
            3,
            4,
            5,
            6,
            7,
            7,
            9,
            9,
            9,
            12,
            13,
            13,
            15,
            16,
            17,
            18,
            18,
            20,
            21,
            22,
            23,
            24,
            25,
            26,
            27,
            28,
            29,
            30
           ],
           [
            28,
            28,
            29,
            28,
            31,
            27,
            28,
            28,
            29,
            29,
            29,
            28,
            30,
            30,
            27,
            30,
            29,
            28,
            28,
            29,
            31,
            29,
            30,
            29,
            28,
            27,
            28,
            28,
            28,
            29
           ],
           [
            22,
            22,
            22,
            20,
            21,
            18,
            17,
            17,
            17,
            17,
            17,
            16,
            17,
            17,
            15,
            16,
            15,
            14,
            14,
            14,
            13,
            12,
            12,
            11,
            9,
            7,
            7,
            5,
            4,
            2
           ],
           [
            6,
            6,
            7,
            8,
            10,
            9,
            11,
            11,
            12,
            12,
            12,
            12,
            13,
            13,
            12,
            14,
            14,
            14,
            14,
            15,
            18,
            17,
            18,
            18,
            19,
            20,
            21,
            23,
            24,
            27
           ],
           [
            120.5,
            114.1,
            120.5,
            121.5,
            117.9,
            118.2,
            116,
            113.4,
            117.7,
            117.5,
            115.7,
            117.1,
            113.2,
            115.3,
            113.1,
            112.2,
            115.7,
            122,
            115.6,
            117,
            112.4,
            119.4,
            111.7,
            113,
            107.5,
            110.7,
            108.3,
            112.4,
            106.5,
            107.8
           ],
           [
            110.3,
            107.5,
            115,
            110.1,
            112.6,
            110.9,
            116,
            110.5,
            116.9,
            113.8,
            113.9,
            114.2,
            112.9,
            112.8,
            109.7,
            112.7,
            114.5,
            121.2,
            115.1,
            116.4,
            115.3,
            119.9,
            118.2,
            115.3,
            112.7,
            121.4,
            115.3,
            121.3,
            118.6,
            119.1
           ],
           [
            10.2,
            6.6,
            5.5,
            11.4,
            5.3,
            7.3,
            0,
            2.9,
            0.8,
            3.7,
            1.8,
            2.9,
            0.3,
            2.5,
            3.4,
            -0.5,
            1.2,
            0.8,
            0.5,
            0.6,
            -2.9,
            -0.5,
            -6.5,
            -2.3,
            -5.2,
            -10.7,
            -7,
            -8.9,
            -12.1,
            -11.3
           ]
          ]
         },
         "domain": {
          "x": [
           0.6,
           1
          ],
          "y": [
           0,
           1
          ]
         },
         "header": {
          "align": "left",
          "fill": {
           "color": "lightblue"
          },
          "values": [
           "Team",
           "rank",
           "GP",
           "W",
           "L",
           "off_r",
           "def_r",
           "net_r"
          ]
         },
         "type": "table"
        }
       ],
       "layout": {
        "font": {
         "color": "#044575",
         "family": "Roboto",
         "size": 11
        },
        "margin": {
         "b": 50,
         "l": 50,
         "r": 30,
         "t": 45
        },
        "plot_bgcolor": "whitesmoke",
        "shapes": [
         {
          "line": {
           "color": "RoyalBlue",
           "width": 1
          },
          "type": "line",
          "x0": 105,
          "x1": 125,
          "y0": 105,
          "y1": 125
         }
        ],
        "template": {
         "data": {
          "bar": [
           {
            "error_x": {
             "color": "#2a3f5f"
            },
            "error_y": {
             "color": "#2a3f5f"
            },
            "marker": {
             "line": {
              "color": "#E5ECF6",
              "width": 0.5
             },
             "pattern": {
              "fillmode": "overlay",
              "size": 10,
              "solidity": 0.2
             }
            },
            "type": "bar"
           }
          ],
          "barpolar": [
           {
            "marker": {
             "line": {
              "color": "#E5ECF6",
              "width": 0.5
             },
             "pattern": {
              "fillmode": "overlay",
              "size": 10,
              "solidity": 0.2
             }
            },
            "type": "barpolar"
           }
          ],
          "carpet": [
           {
            "aaxis": {
             "endlinecolor": "#2a3f5f",
             "gridcolor": "white",
             "linecolor": "white",
             "minorgridcolor": "white",
             "startlinecolor": "#2a3f5f"
            },
            "baxis": {
             "endlinecolor": "#2a3f5f",
             "gridcolor": "white",
             "linecolor": "white",
             "minorgridcolor": "white",
             "startlinecolor": "#2a3f5f"
            },
            "type": "carpet"
           }
          ],
          "choropleth": [
           {
            "colorbar": {
             "outlinewidth": 0,
             "ticks": ""
            },
            "type": "choropleth"
           }
          ],
          "contour": [
           {
            "colorbar": {
             "outlinewidth": 0,
             "ticks": ""
            },
            "colorscale": [
             [
              0,
              "#0d0887"
             ],
             [
              0.1111111111111111,
              "#46039f"
             ],
             [
              0.2222222222222222,
              "#7201a8"
             ],
             [
              0.3333333333333333,
              "#9c179e"
             ],
             [
              0.4444444444444444,
              "#bd3786"
             ],
             [
              0.5555555555555556,
              "#d8576b"
             ],
             [
              0.6666666666666666,
              "#ed7953"
             ],
             [
              0.7777777777777778,
              "#fb9f3a"
             ],
             [
              0.8888888888888888,
              "#fdca26"
             ],
             [
              1,
              "#f0f921"
             ]
            ],
            "type": "contour"
           }
          ],
          "contourcarpet": [
           {
            "colorbar": {
             "outlinewidth": 0,
             "ticks": ""
            },
            "type": "contourcarpet"
           }
          ],
          "heatmap": [
           {
            "colorbar": {
             "outlinewidth": 0,
             "ticks": ""
            },
            "colorscale": [
             [
              0,
              "#0d0887"
             ],
             [
              0.1111111111111111,
              "#46039f"
             ],
             [
              0.2222222222222222,
              "#7201a8"
             ],
             [
              0.3333333333333333,
              "#9c179e"
             ],
             [
              0.4444444444444444,
              "#bd3786"
             ],
             [
              0.5555555555555556,
              "#d8576b"
             ],
             [
              0.6666666666666666,
              "#ed7953"
             ],
             [
              0.7777777777777778,
              "#fb9f3a"
             ],
             [
              0.8888888888888888,
              "#fdca26"
             ],
             [
              1,
              "#f0f921"
             ]
            ],
            "type": "heatmap"
           }
          ],
          "heatmapgl": [
           {
            "colorbar": {
             "outlinewidth": 0,
             "ticks": ""
            },
            "colorscale": [
             [
              0,
              "#0d0887"
             ],
             [
              0.1111111111111111,
              "#46039f"
             ],
             [
              0.2222222222222222,
              "#7201a8"
             ],
             [
              0.3333333333333333,
              "#9c179e"
             ],
             [
              0.4444444444444444,
              "#bd3786"
             ],
             [
              0.5555555555555556,
              "#d8576b"
             ],
             [
              0.6666666666666666,
              "#ed7953"
             ],
             [
              0.7777777777777778,
              "#fb9f3a"
             ],
             [
              0.8888888888888888,
              "#fdca26"
             ],
             [
              1,
              "#f0f921"
             ]
            ],
            "type": "heatmapgl"
           }
          ],
          "histogram": [
           {
            "marker": {
             "pattern": {
              "fillmode": "overlay",
              "size": 10,
              "solidity": 0.2
             }
            },
            "type": "histogram"
           }
          ],
          "histogram2d": [
           {
            "colorbar": {
             "outlinewidth": 0,
             "ticks": ""
            },
            "colorscale": [
             [
              0,
              "#0d0887"
             ],
             [
              0.1111111111111111,
              "#46039f"
             ],
             [
              0.2222222222222222,
              "#7201a8"
             ],
             [
              0.3333333333333333,
              "#9c179e"
             ],
             [
              0.4444444444444444,
              "#bd3786"
             ],
             [
              0.5555555555555556,
              "#d8576b"
             ],
             [
              0.6666666666666666,
              "#ed7953"
             ],
             [
              0.7777777777777778,
              "#fb9f3a"
             ],
             [
              0.8888888888888888,
              "#fdca26"
             ],
             [
              1,
              "#f0f921"
             ]
            ],
            "type": "histogram2d"
           }
          ],
          "histogram2dcontour": [
           {
            "colorbar": {
             "outlinewidth": 0,
             "ticks": ""
            },
            "colorscale": [
             [
              0,
              "#0d0887"
             ],
             [
              0.1111111111111111,
              "#46039f"
             ],
             [
              0.2222222222222222,
              "#7201a8"
             ],
             [
              0.3333333333333333,
              "#9c179e"
             ],
             [
              0.4444444444444444,
              "#bd3786"
             ],
             [
              0.5555555555555556,
              "#d8576b"
             ],
             [
              0.6666666666666666,
              "#ed7953"
             ],
             [
              0.7777777777777778,
              "#fb9f3a"
             ],
             [
              0.8888888888888888,
              "#fdca26"
             ],
             [
              1,
              "#f0f921"
             ]
            ],
            "type": "histogram2dcontour"
           }
          ],
          "mesh3d": [
           {
            "colorbar": {
             "outlinewidth": 0,
             "ticks": ""
            },
            "type": "mesh3d"
           }
          ],
          "parcoords": [
           {
            "line": {
             "colorbar": {
              "outlinewidth": 0,
              "ticks": ""
             }
            },
            "type": "parcoords"
           }
          ],
          "pie": [
           {
            "automargin": true,
            "type": "pie"
           }
          ],
          "scatter": [
           {
            "fillpattern": {
             "fillmode": "overlay",
             "size": 10,
             "solidity": 0.2
            },
            "type": "scatter"
           }
          ],
          "scatter3d": [
           {
            "line": {
             "colorbar": {
              "outlinewidth": 0,
              "ticks": ""
             }
            },
            "marker": {
             "colorbar": {
              "outlinewidth": 0,
              "ticks": ""
             }
            },
            "type": "scatter3d"
           }
          ],
          "scattercarpet": [
           {
            "marker": {
             "colorbar": {
              "outlinewidth": 0,
              "ticks": ""
             }
            },
            "type": "scattercarpet"
           }
          ],
          "scattergeo": [
           {
            "marker": {
             "colorbar": {
              "outlinewidth": 0,
              "ticks": ""
             }
            },
            "type": "scattergeo"
           }
          ],
          "scattergl": [
           {
            "marker": {
             "colorbar": {
              "outlinewidth": 0,
              "ticks": ""
             }
            },
            "type": "scattergl"
           }
          ],
          "scattermapbox": [
           {
            "marker": {
             "colorbar": {
              "outlinewidth": 0,
              "ticks": ""
             }
            },
            "type": "scattermapbox"
           }
          ],
          "scatterpolar": [
           {
            "marker": {
             "colorbar": {
              "outlinewidth": 0,
              "ticks": ""
             }
            },
            "type": "scatterpolar"
           }
          ],
          "scatterpolargl": [
           {
            "marker": {
             "colorbar": {
              "outlinewidth": 0,
              "ticks": ""
             }
            },
            "type": "scatterpolargl"
           }
          ],
          "scatterternary": [
           {
            "marker": {
             "colorbar": {
              "outlinewidth": 0,
              "ticks": ""
             }
            },
            "type": "scatterternary"
           }
          ],
          "surface": [
           {
            "colorbar": {
             "outlinewidth": 0,
             "ticks": ""
            },
            "colorscale": [
             [
              0,
              "#0d0887"
             ],
             [
              0.1111111111111111,
              "#46039f"
             ],
             [
              0.2222222222222222,
              "#7201a8"
             ],
             [
              0.3333333333333333,
              "#9c179e"
             ],
             [
              0.4444444444444444,
              "#bd3786"
             ],
             [
              0.5555555555555556,
              "#d8576b"
             ],
             [
              0.6666666666666666,
              "#ed7953"
             ],
             [
              0.7777777777777778,
              "#fb9f3a"
             ],
             [
              0.8888888888888888,
              "#fdca26"
             ],
             [
              1,
              "#f0f921"
             ]
            ],
            "type": "surface"
           }
          ],
          "table": [
           {
            "cells": {
             "fill": {
              "color": "#EBF0F8"
             },
             "line": {
              "color": "white"
             }
            },
            "header": {
             "fill": {
              "color": "#C8D4E3"
             },
             "line": {
              "color": "white"
             }
            },
            "type": "table"
           }
          ]
         },
         "layout": {
          "annotationdefaults": {
           "arrowcolor": "#2a3f5f",
           "arrowhead": 0,
           "arrowwidth": 1
          },
          "autotypenumbers": "strict",
          "coloraxis": {
           "colorbar": {
            "outlinewidth": 0,
            "ticks": ""
           }
          },
          "colorscale": {
           "diverging": [
            [
             0,
             "#8e0152"
            ],
            [
             0.1,
             "#c51b7d"
            ],
            [
             0.2,
             "#de77ae"
            ],
            [
             0.3,
             "#f1b6da"
            ],
            [
             0.4,
             "#fde0ef"
            ],
            [
             0.5,
             "#f7f7f7"
            ],
            [
             0.6,
             "#e6f5d0"
            ],
            [
             0.7,
             "#b8e186"
            ],
            [
             0.8,
             "#7fbc41"
            ],
            [
             0.9,
             "#4d9221"
            ],
            [
             1,
             "#276419"
            ]
           ],
           "sequential": [
            [
             0,
             "#0d0887"
            ],
            [
             0.1111111111111111,
             "#46039f"
            ],
            [
             0.2222222222222222,
             "#7201a8"
            ],
            [
             0.3333333333333333,
             "#9c179e"
            ],
            [
             0.4444444444444444,
             "#bd3786"
            ],
            [
             0.5555555555555556,
             "#d8576b"
            ],
            [
             0.6666666666666666,
             "#ed7953"
            ],
            [
             0.7777777777777778,
             "#fb9f3a"
            ],
            [
             0.8888888888888888,
             "#fdca26"
            ],
            [
             1,
             "#f0f921"
            ]
           ],
           "sequentialminus": [
            [
             0,
             "#0d0887"
            ],
            [
             0.1111111111111111,
             "#46039f"
            ],
            [
             0.2222222222222222,
             "#7201a8"
            ],
            [
             0.3333333333333333,
             "#9c179e"
            ],
            [
             0.4444444444444444,
             "#bd3786"
            ],
            [
             0.5555555555555556,
             "#d8576b"
            ],
            [
             0.6666666666666666,
             "#ed7953"
            ],
            [
             0.7777777777777778,
             "#fb9f3a"
            ],
            [
             0.8888888888888888,
             "#fdca26"
            ],
            [
             1,
             "#f0f921"
            ]
           ]
          },
          "colorway": [
           "#636efa",
           "#EF553B",
           "#00cc96",
           "#ab63fa",
           "#FFA15A",
           "#19d3f3",
           "#FF6692",
           "#B6E880",
           "#FF97FF",
           "#FECB52"
          ],
          "font": {
           "color": "#2a3f5f"
          },
          "geo": {
           "bgcolor": "white",
           "lakecolor": "white",
           "landcolor": "#E5ECF6",
           "showlakes": true,
           "showland": true,
           "subunitcolor": "white"
          },
          "hoverlabel": {
           "align": "left"
          },
          "hovermode": "closest",
          "mapbox": {
           "style": "light"
          },
          "paper_bgcolor": "white",
          "plot_bgcolor": "#E5ECF6",
          "polar": {
           "angularaxis": {
            "gridcolor": "white",
            "linecolor": "white",
            "ticks": ""
           },
           "bgcolor": "#E5ECF6",
           "radialaxis": {
            "gridcolor": "white",
            "linecolor": "white",
            "ticks": ""
           }
          },
          "scene": {
           "xaxis": {
            "backgroundcolor": "#E5ECF6",
            "gridcolor": "white",
            "gridwidth": 2,
            "linecolor": "white",
            "showbackground": true,
            "ticks": "",
            "zerolinecolor": "white"
           },
           "yaxis": {
            "backgroundcolor": "#E5ECF6",
            "gridcolor": "white",
            "gridwidth": 2,
            "linecolor": "white",
            "showbackground": true,
            "ticks": "",
            "zerolinecolor": "white"
           },
           "zaxis": {
            "backgroundcolor": "#E5ECF6",
            "gridcolor": "white",
            "gridwidth": 2,
            "linecolor": "white",
            "showbackground": true,
            "ticks": "",
            "zerolinecolor": "white"
           }
          },
          "shapedefaults": {
           "line": {
            "color": "#2a3f5f"
           }
          },
          "ternary": {
           "aaxis": {
            "gridcolor": "white",
            "linecolor": "white",
            "ticks": ""
           },
           "baxis": {
            "gridcolor": "white",
            "linecolor": "white",
            "ticks": ""
           },
           "bgcolor": "#E5ECF6",
           "caxis": {
            "gridcolor": "white",
            "linecolor": "white",
            "ticks": ""
           }
          },
          "title": {
           "x": 0.05
          },
          "xaxis": {
           "automargin": true,
           "gridcolor": "white",
           "linecolor": "white",
           "ticks": "",
           "title": {
            "standoff": 15
           },
           "zerolinecolor": "white",
           "zerolinewidth": 2
          },
          "yaxis": {
           "automargin": true,
           "gridcolor": "white",
           "linecolor": "white",
           "ticks": "",
           "title": {
            "standoff": 15
           },
           "zerolinecolor": "white",
           "zerolinewidth": 2
          }
         }
        },
        "title": {
         "text": "NBA Teams Advanced Statistics"
        },
        "xaxis": {
         "anchor": "y",
         "domain": [
          0,
          0.58
         ],
         "title": {
          "text": "Offensive rating"
         }
        },
        "yaxis": {
         "anchor": "x",
         "autorange": "reversed",
         "domain": [
          0,
          1
         ],
         "title": {
          "text": "Defensive rating"
         }
        }
       }
      },
      "text/html": [
       "<div>                            <div id=\"4d4a811f-8349-4f2c-a3fb-e721e7863b2e\" class=\"plotly-graph-div\" style=\"height:525px; width:100%;\"></div>            <script type=\"text/javascript\">                require([\"plotly\"], function(Plotly) {                    window.PLOTLYENV=window.PLOTLYENV || {};                                    if (document.getElementById(\"4d4a811f-8349-4f2c-a3fb-e721e7863b2e\")) {                    Plotly.newPlot(                        \"4d4a811f-8349-4f2c-a3fb-e721e7863b2e\",                        [{\"hovertemplate\":\"%{text} \\u003cbr\\u003eoff_rtg: %{x} \\u003c\\u002fbr\\u003e def_rtg: %{y}\",\"marker\":{\"color\":[\"#008248\",\"#236192\",\"#00471b\",\"#006bb6\",\"#0d2240\",\"#007ac1\",\"#5b2b82\",\"#0b77bd\",\"#007dc5\",\"#1d428a\",\"#98002e\",\"#f58426\",\"#6f2633\",\"#b4975a\",\"#ce1141\",\"#552583\",\"#fdb927\",\"#002d62\",\"#b95915\",\"Black\",\"#ce1141\",\"#e03a3e\",\"#2b5134\",\"#a0a0a3\",\"#5d76a9\",\"#00788c\",\"#cf0a2c\",\"#002b5c\",\"Black\",\"#1d428a\"],\"size\":7},\"mode\":\"markers+text\",\"name\":\"team\",\"text\":[\"1-BOS\",\"1-MIN\",\"3-MIL\",\"4-PHI\",\"5-DEN\",\"6-OKC\",\"7-SAC\",\"7-ORL\",\"9-DAL\",\"9-LAC\",\"9-MIA\",\"12-NYK\",\"13-CLE\",\"13-NOP\",\"15-HOU\",\"16-LAL\",\"17-GSW\",\"18-IND\",\"18-PHX\",\"20-BKN\",\"21-CHI\",\"22-ATL\",\"23-UTA\",\"24-TOR\",\"25-MEM\",\"26-CHA\",\"27-POR\",\"28-WAS\",\"29-SAS\",\"30-DET\"],\"textfont\":{\"color\":[\"#008248\",\"#236192\",\"#00471b\",\"#006bb6\",\"#0d2240\",\"#007ac1\",\"#5b2b82\",\"#0b77bd\",\"#007dc5\",\"#1d428a\",\"#98002e\",\"#f58426\",\"#6f2633\",\"#b4975a\",\"#ce1141\",\"#552583\",\"#fdb927\",\"#002d62\",\"#b95915\",\"Black\",\"#ce1141\",\"#e03a3e\",\"#2b5134\",\"#a0a0a3\",\"#5d76a9\",\"#00788c\",\"#cf0a2c\",\"#002b5c\",\"Black\",\"#1d428a\"],\"size\":7},\"textposition\":\"top center\",\"texttemplate\":\"\\u003cb\\u003e[%{text}]\\u003c\\u002fb\\u003e\",\"x\":[120.5,114.1,120.5,121.5,117.9,118.2,116.0,113.4,117.7,117.5,115.7,117.1,113.2,115.3,113.1,112.2,115.7,122.0,115.6,117.0,112.4,119.4,111.7,113.0,107.5,110.7,108.3,112.4,106.5,107.8],\"y\":[110.3,107.5,115.0,110.1,112.6,110.9,116.0,110.5,116.9,113.8,113.9,114.2,112.9,112.8,109.7,112.7,114.5,121.2,115.1,116.4,115.3,119.9,118.2,115.3,112.7,121.4,115.3,121.3,118.6,119.1],\"type\":\"scatter\"},{\"cells\":{\"align\":\"center\",\"fill\":{\"color\":\"snow\"},\"values\":[[\"BOS\",\"MIN\",\"MIL\",\"PHI\",\"DEN\",\"OKC\",\"SAC\",\"ORL\",\"DAL\",\"LAC\",\"MIA\",\"NYK\",\"CLE\",\"NOP\",\"HOU\",\"LAL\",\"GSW\",\"IND\",\"PHX\",\"BKN\",\"CHI\",\"ATL\",\"UTA\",\"TOR\",\"MEM\",\"CHA\",\"POR\",\"WAS\",\"SAS\",\"DET\"],[1,1,3,4,5,6,7,7,9,9,9,12,13,13,15,16,17,18,18,20,21,22,23,24,25,26,27,28,29,30],[28,28,29,28,31,27,28,28,29,29,29,28,30,30,27,30,29,28,28,29,31,29,30,29,28,27,28,28,28,29],[22,22,22,20,21,18,17,17,17,17,17,16,17,17,15,16,15,14,14,14,13,12,12,11,9,7,7,5,4,2],[6,6,7,8,10,9,11,11,12,12,12,12,13,13,12,14,14,14,14,15,18,17,18,18,19,20,21,23,24,27],[120.5,114.1,120.5,121.5,117.9,118.2,116.0,113.4,117.7,117.5,115.7,117.1,113.2,115.3,113.1,112.2,115.7,122.0,115.6,117.0,112.4,119.4,111.7,113.0,107.5,110.7,108.3,112.4,106.5,107.8],[110.3,107.5,115.0,110.1,112.6,110.9,116.0,110.5,116.9,113.8,113.9,114.2,112.9,112.8,109.7,112.7,114.5,121.2,115.1,116.4,115.3,119.9,118.2,115.3,112.7,121.4,115.3,121.3,118.6,119.1],[10.2,6.6,5.5,11.4,5.3,7.3,0.0,2.9,0.8,3.7,1.8,2.9,0.3,2.5,3.4,-0.5,1.2,0.8,0.5,0.6,-2.9,-0.5,-6.5,-2.3,-5.2,-10.7,-7.0,-8.9,-12.1,-11.3]]},\"domain\":{\"x\":[0.6,1],\"y\":[0,1]},\"header\":{\"align\":\"left\",\"fill\":{\"color\":\"lightblue\"},\"values\":[\"Team\",\"rank\",\"GP\",\"W\",\"L\",\"off_r\",\"def_r\",\"net_r\"]},\"type\":\"table\"}],                        {\"font\":{\"color\":\"#044575\",\"family\":\"Roboto\",\"size\":11},\"margin\":{\"b\":50,\"l\":50,\"r\":30,\"t\":45},\"plot_bgcolor\":\"whitesmoke\",\"shapes\":[{\"line\":{\"color\":\"RoyalBlue\",\"width\":1},\"type\":\"line\",\"x0\":105,\"x1\":125,\"y0\":105,\"y1\":125}],\"template\":{\"data\":{\"barpolar\":[{\"marker\":{\"line\":{\"color\":\"#E5ECF6\",\"width\":0.5},\"pattern\":{\"fillmode\":\"overlay\",\"size\":10,\"solidity\":0.2}},\"type\":\"barpolar\"}],\"bar\":[{\"error_x\":{\"color\":\"#2a3f5f\"},\"error_y\":{\"color\":\"#2a3f5f\"},\"marker\":{\"line\":{\"color\":\"#E5ECF6\",\"width\":0.5},\"pattern\":{\"fillmode\":\"overlay\",\"size\":10,\"solidity\":0.2}},\"type\":\"bar\"}],\"carpet\":[{\"aaxis\":{\"endlinecolor\":\"#2a3f5f\",\"gridcolor\":\"white\",\"linecolor\":\"white\",\"minorgridcolor\":\"white\",\"startlinecolor\":\"#2a3f5f\"},\"baxis\":{\"endlinecolor\":\"#2a3f5f\",\"gridcolor\":\"white\",\"linecolor\":\"white\",\"minorgridcolor\":\"white\",\"startlinecolor\":\"#2a3f5f\"},\"type\":\"carpet\"}],\"choropleth\":[{\"colorbar\":{\"outlinewidth\":0,\"ticks\":\"\"},\"type\":\"choropleth\"}],\"contourcarpet\":[{\"colorbar\":{\"outlinewidth\":0,\"ticks\":\"\"},\"type\":\"contourcarpet\"}],\"contour\":[{\"colorbar\":{\"outlinewidth\":0,\"ticks\":\"\"},\"colorscale\":[[0.0,\"#0d0887\"],[0.1111111111111111,\"#46039f\"],[0.2222222222222222,\"#7201a8\"],[0.3333333333333333,\"#9c179e\"],[0.4444444444444444,\"#bd3786\"],[0.5555555555555556,\"#d8576b\"],[0.6666666666666666,\"#ed7953\"],[0.7777777777777778,\"#fb9f3a\"],[0.8888888888888888,\"#fdca26\"],[1.0,\"#f0f921\"]],\"type\":\"contour\"}],\"heatmapgl\":[{\"colorbar\":{\"outlinewidth\":0,\"ticks\":\"\"},\"colorscale\":[[0.0,\"#0d0887\"],[0.1111111111111111,\"#46039f\"],[0.2222222222222222,\"#7201a8\"],[0.3333333333333333,\"#9c179e\"],[0.4444444444444444,\"#bd3786\"],[0.5555555555555556,\"#d8576b\"],[0.6666666666666666,\"#ed7953\"],[0.7777777777777778,\"#fb9f3a\"],[0.8888888888888888,\"#fdca26\"],[1.0,\"#f0f921\"]],\"type\":\"heatmapgl\"}],\"heatmap\":[{\"colorbar\":{\"outlinewidth\":0,\"ticks\":\"\"},\"colorscale\":[[0.0,\"#0d0887\"],[0.1111111111111111,\"#46039f\"],[0.2222222222222222,\"#7201a8\"],[0.3333333333333333,\"#9c179e\"],[0.4444444444444444,\"#bd3786\"],[0.5555555555555556,\"#d8576b\"],[0.6666666666666666,\"#ed7953\"],[0.7777777777777778,\"#fb9f3a\"],[0.8888888888888888,\"#fdca26\"],[1.0,\"#f0f921\"]],\"type\":\"heatmap\"}],\"histogram2dcontour\":[{\"colorbar\":{\"outlinewidth\":0,\"ticks\":\"\"},\"colorscale\":[[0.0,\"#0d0887\"],[0.1111111111111111,\"#46039f\"],[0.2222222222222222,\"#7201a8\"],[0.3333333333333333,\"#9c179e\"],[0.4444444444444444,\"#bd3786\"],[0.5555555555555556,\"#d8576b\"],[0.6666666666666666,\"#ed7953\"],[0.7777777777777778,\"#fb9f3a\"],[0.8888888888888888,\"#fdca26\"],[1.0,\"#f0f921\"]],\"type\":\"histogram2dcontour\"}],\"histogram2d\":[{\"colorbar\":{\"outlinewidth\":0,\"ticks\":\"\"},\"colorscale\":[[0.0,\"#0d0887\"],[0.1111111111111111,\"#46039f\"],[0.2222222222222222,\"#7201a8\"],[0.3333333333333333,\"#9c179e\"],[0.4444444444444444,\"#bd3786\"],[0.5555555555555556,\"#d8576b\"],[0.6666666666666666,\"#ed7953\"],[0.7777777777777778,\"#fb9f3a\"],[0.8888888888888888,\"#fdca26\"],[1.0,\"#f0f921\"]],\"type\":\"histogram2d\"}],\"histogram\":[{\"marker\":{\"pattern\":{\"fillmode\":\"overlay\",\"size\":10,\"solidity\":0.2}},\"type\":\"histogram\"}],\"mesh3d\":[{\"colorbar\":{\"outlinewidth\":0,\"ticks\":\"\"},\"type\":\"mesh3d\"}],\"parcoords\":[{\"line\":{\"colorbar\":{\"outlinewidth\":0,\"ticks\":\"\"}},\"type\":\"parcoords\"}],\"pie\":[{\"automargin\":true,\"type\":\"pie\"}],\"scatter3d\":[{\"line\":{\"colorbar\":{\"outlinewidth\":0,\"ticks\":\"\"}},\"marker\":{\"colorbar\":{\"outlinewidth\":0,\"ticks\":\"\"}},\"type\":\"scatter3d\"}],\"scattercarpet\":[{\"marker\":{\"colorbar\":{\"outlinewidth\":0,\"ticks\":\"\"}},\"type\":\"scattercarpet\"}],\"scattergeo\":[{\"marker\":{\"colorbar\":{\"outlinewidth\":0,\"ticks\":\"\"}},\"type\":\"scattergeo\"}],\"scattergl\":[{\"marker\":{\"colorbar\":{\"outlinewidth\":0,\"ticks\":\"\"}},\"type\":\"scattergl\"}],\"scattermapbox\":[{\"marker\":{\"colorbar\":{\"outlinewidth\":0,\"ticks\":\"\"}},\"type\":\"scattermapbox\"}],\"scatterpolargl\":[{\"marker\":{\"colorbar\":{\"outlinewidth\":0,\"ticks\":\"\"}},\"type\":\"scatterpolargl\"}],\"scatterpolar\":[{\"marker\":{\"colorbar\":{\"outlinewidth\":0,\"ticks\":\"\"}},\"type\":\"scatterpolar\"}],\"scatter\":[{\"fillpattern\":{\"fillmode\":\"overlay\",\"size\":10,\"solidity\":0.2},\"type\":\"scatter\"}],\"scatterternary\":[{\"marker\":{\"colorbar\":{\"outlinewidth\":0,\"ticks\":\"\"}},\"type\":\"scatterternary\"}],\"surface\":[{\"colorbar\":{\"outlinewidth\":0,\"ticks\":\"\"},\"colorscale\":[[0.0,\"#0d0887\"],[0.1111111111111111,\"#46039f\"],[0.2222222222222222,\"#7201a8\"],[0.3333333333333333,\"#9c179e\"],[0.4444444444444444,\"#bd3786\"],[0.5555555555555556,\"#d8576b\"],[0.6666666666666666,\"#ed7953\"],[0.7777777777777778,\"#fb9f3a\"],[0.8888888888888888,\"#fdca26\"],[1.0,\"#f0f921\"]],\"type\":\"surface\"}],\"table\":[{\"cells\":{\"fill\":{\"color\":\"#EBF0F8\"},\"line\":{\"color\":\"white\"}},\"header\":{\"fill\":{\"color\":\"#C8D4E3\"},\"line\":{\"color\":\"white\"}},\"type\":\"table\"}]},\"layout\":{\"annotationdefaults\":{\"arrowcolor\":\"#2a3f5f\",\"arrowhead\":0,\"arrowwidth\":1},\"autotypenumbers\":\"strict\",\"coloraxis\":{\"colorbar\":{\"outlinewidth\":0,\"ticks\":\"\"}},\"colorscale\":{\"diverging\":[[0,\"#8e0152\"],[0.1,\"#c51b7d\"],[0.2,\"#de77ae\"],[0.3,\"#f1b6da\"],[0.4,\"#fde0ef\"],[0.5,\"#f7f7f7\"],[0.6,\"#e6f5d0\"],[0.7,\"#b8e186\"],[0.8,\"#7fbc41\"],[0.9,\"#4d9221\"],[1,\"#276419\"]],\"sequential\":[[0.0,\"#0d0887\"],[0.1111111111111111,\"#46039f\"],[0.2222222222222222,\"#7201a8\"],[0.3333333333333333,\"#9c179e\"],[0.4444444444444444,\"#bd3786\"],[0.5555555555555556,\"#d8576b\"],[0.6666666666666666,\"#ed7953\"],[0.7777777777777778,\"#fb9f3a\"],[0.8888888888888888,\"#fdca26\"],[1.0,\"#f0f921\"]],\"sequentialminus\":[[0.0,\"#0d0887\"],[0.1111111111111111,\"#46039f\"],[0.2222222222222222,\"#7201a8\"],[0.3333333333333333,\"#9c179e\"],[0.4444444444444444,\"#bd3786\"],[0.5555555555555556,\"#d8576b\"],[0.6666666666666666,\"#ed7953\"],[0.7777777777777778,\"#fb9f3a\"],[0.8888888888888888,\"#fdca26\"],[1.0,\"#f0f921\"]]},\"colorway\":[\"#636efa\",\"#EF553B\",\"#00cc96\",\"#ab63fa\",\"#FFA15A\",\"#19d3f3\",\"#FF6692\",\"#B6E880\",\"#FF97FF\",\"#FECB52\"],\"font\":{\"color\":\"#2a3f5f\"},\"geo\":{\"bgcolor\":\"white\",\"lakecolor\":\"white\",\"landcolor\":\"#E5ECF6\",\"showlakes\":true,\"showland\":true,\"subunitcolor\":\"white\"},\"hoverlabel\":{\"align\":\"left\"},\"hovermode\":\"closest\",\"mapbox\":{\"style\":\"light\"},\"paper_bgcolor\":\"white\",\"plot_bgcolor\":\"#E5ECF6\",\"polar\":{\"angularaxis\":{\"gridcolor\":\"white\",\"linecolor\":\"white\",\"ticks\":\"\"},\"bgcolor\":\"#E5ECF6\",\"radialaxis\":{\"gridcolor\":\"white\",\"linecolor\":\"white\",\"ticks\":\"\"}},\"scene\":{\"xaxis\":{\"backgroundcolor\":\"#E5ECF6\",\"gridcolor\":\"white\",\"gridwidth\":2,\"linecolor\":\"white\",\"showbackground\":true,\"ticks\":\"\",\"zerolinecolor\":\"white\"},\"yaxis\":{\"backgroundcolor\":\"#E5ECF6\",\"gridcolor\":\"white\",\"gridwidth\":2,\"linecolor\":\"white\",\"showbackground\":true,\"ticks\":\"\",\"zerolinecolor\":\"white\"},\"zaxis\":{\"backgroundcolor\":\"#E5ECF6\",\"gridcolor\":\"white\",\"gridwidth\":2,\"linecolor\":\"white\",\"showbackground\":true,\"ticks\":\"\",\"zerolinecolor\":\"white\"}},\"shapedefaults\":{\"line\":{\"color\":\"#2a3f5f\"}},\"ternary\":{\"aaxis\":{\"gridcolor\":\"white\",\"linecolor\":\"white\",\"ticks\":\"\"},\"baxis\":{\"gridcolor\":\"white\",\"linecolor\":\"white\",\"ticks\":\"\"},\"bgcolor\":\"#E5ECF6\",\"caxis\":{\"gridcolor\":\"white\",\"linecolor\":\"white\",\"ticks\":\"\"}},\"title\":{\"x\":0.05},\"xaxis\":{\"automargin\":true,\"gridcolor\":\"white\",\"linecolor\":\"white\",\"ticks\":\"\",\"title\":{\"standoff\":15},\"zerolinecolor\":\"white\",\"zerolinewidth\":2},\"yaxis\":{\"automargin\":true,\"gridcolor\":\"white\",\"linecolor\":\"white\",\"ticks\":\"\",\"title\":{\"standoff\":15},\"zerolinecolor\":\"white\",\"zerolinewidth\":2}}},\"title\":{\"text\":\"NBA Teams Advanced Statistics\"},\"xaxis\":{\"anchor\":\"y\",\"domain\":[0,0.58],\"title\":{\"text\":\"Offensive rating\"}},\"yaxis\":{\"anchor\":\"x\",\"autorange\":\"reversed\",\"domain\":[0,1],\"title\":{\"text\":\"Defensive rating\"}}},                        {\"responsive\": true}                    ).then(function(){\n",
       "                            \n",
       "var gd = document.getElementById('4d4a811f-8349-4f2c-a3fb-e721e7863b2e');\n",
       "var x = new MutationObserver(function (mutations, observer) {{\n",
       "        var display = window.getComputedStyle(gd).display;\n",
       "        if (!display || display === 'none') {{\n",
       "            console.log([gd, 'removed!']);\n",
       "            Plotly.purge(gd);\n",
       "            observer.disconnect();\n",
       "        }}\n",
       "}});\n",
       "\n",
       "// Listen for the removal of the full notebook cells\n",
       "var notebookContainer = gd.closest('#notebook-container');\n",
       "if (notebookContainer) {{\n",
       "    x.observe(notebookContainer, {childList: true});\n",
       "}}\n",
       "\n",
       "// Listen for the clearing of the current output cell\n",
       "var outputEl = gd.closest('.output');\n",
       "if (outputEl) {{\n",
       "    x.observe(outputEl, {childList: true});\n",
       "}}\n",
       "\n",
       "                        })                };                });            </script>        </div>"
      ]
     },
     "metadata": {},
     "output_type": "display_data"
    }
   ],
   "source": [
    "### Plotly Configuration\n",
    "\n",
    "### Scatter plot\n",
    "scatter = go.Scatter(\n",
    "    x=df['offensive_rating'],\n",
    "    y=df['defensive_rating'],\n",
    "    name='team',\n",
    "    mode='markers+text',\n",
    "    marker=dict(color=df['team_color'], size=7),\n",
    "    #marker_symbol='diamond-wide',\n",
    "    text=df['label'],\n",
    "    textfont={'color':df['team_color'], 'size':7},\n",
    "    textposition='top center',\n",
    "    texttemplate='<b>[%{text}]</b>',\n",
    "    hovertemplate = '%{text} <br>off_rtg: %{x} </br> def_rtg: %{y}'\n",
    ")\n",
    "\n",
    "### Table plot\n",
    "table = go.Table(\n",
    "    header=dict(values=list(['Team','rank','GP','W','L','off_r','def_r','net_r']),\n",
    "                fill_color='lightblue',\n",
    "                align='left'),\n",
    "    cells=dict(values=[df['team_abbreviation'],\n",
    "                       df['PCT_W_rank'],\n",
    "                       df['GP'],\n",
    "                       df['W'],\n",
    "                       df['L'],\n",
    "                       df['offensive_rating'],\n",
    "                       df['defensive_rating'],\n",
    "                       df['net_rating']\n",
    "                       ],\n",
    "               fill_color='snow',\n",
    "               align='center'),\n",
    "    domain=dict(x=[0.6, 1],\n",
    "                y=[0, 1])\n",
    ")\n",
    "\n",
    "### Merge plots\n",
    "layout = dict(xaxis1=dict( dict(domain=[0, 0.58], anchor='y1')),\n",
    "              yaxis1=dict( dict(domain=[0, 1], anchor='x1')),\n",
    "              margin=dict(l=50, r=30, t=45, b=50),\n",
    "              title='NBA Teams Advanced Statistics'\n",
    "             )\n",
    "fig = go.Figure(data = [scatter,table], layout = layout)\n",
    "\n",
    "### Configuration\n",
    "fig.add_shape(type=\"line\",\n",
    "    x0=105, y0=105, x1=125, y1=125,\n",
    "    line=dict(color=\"RoyalBlue\",width=1)\n",
    ")\n",
    "fig['layout']['yaxis']['autorange'] = 'reversed'\n",
    "fig.update_layout(xaxis_title='Offensive rating', \n",
    "                  yaxis_title='Defensive rating',\n",
    "                  plot_bgcolor='whitesmoke',\n",
    "                  font_family='Roboto',\n",
    "                  font=dict(\n",
    "                    size=11,\n",
    "                    color='#044575'\n",
    "                  )\n",
    "                  )\n",
    "iplot(fig, filename = 'basic_table')\n"
   ]
  },
  {
   "cell_type": "code",
   "execution_count": null,
   "metadata": {},
   "outputs": [],
   "source": []
  }
 ],
 "metadata": {
  "kernelspec": {
   "display_name": "default",
   "language": "python",
   "name": "python3"
  },
  "language_info": {
   "codemirror_mode": {
    "name": "ipython",
    "version": 3
   },
   "file_extension": ".py",
   "mimetype": "text/x-python",
   "name": "python",
   "nbconvert_exporter": "python",
   "pygments_lexer": "ipython3",
   "version": "3.11.3"
  }
 },
 "nbformat": 4,
 "nbformat_minor": 2
}
